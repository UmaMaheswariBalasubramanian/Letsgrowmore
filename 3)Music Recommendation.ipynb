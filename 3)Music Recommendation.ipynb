{
 "cells": [
  {
   "cell_type": "markdown",
   "id": "59e444bd",
   "metadata": {},
   "source": [
    "#### Import Libraries"
   ]
  },
  {
   "cell_type": "code",
   "execution_count": 1,
   "id": "4b802d0e",
   "metadata": {},
   "outputs": [],
   "source": [
    "import numpy as np\n",
    "import pandas as pd\n",
    "import seaborn as sns\n",
    "import matplotlib.pyplot as plt"
   ]
  },
  {
   "cell_type": "markdown",
   "id": "0997d262",
   "metadata": {},
   "source": [
    "# Data Loading and Exploration"
   ]
  },
  {
   "cell_type": "markdown",
   "id": "35ecf871",
   "metadata": {},
   "source": [
    "### Data Understanding "
   ]
  },
  {
   "cell_type": "code",
   "execution_count": 2,
   "id": "0bfb4600",
   "metadata": {
    "scrolled": true
   },
   "outputs": [
    {
     "name": "stdout",
     "output_type": "stream",
     "text": [
      "Data loading completed!\n",
      "(7377418, 6) (2556790, 6) (2296320, 7) (34403, 7) (2556790, 2) (2295971, 3)\n"
     ]
    }
   ],
   "source": [
    "\n",
    "train = pd.read_csv('train.csv')\n",
    "test = pd.read_csv('test.csv')\n",
    "songs = pd.read_csv('songs.csv') #'composer', 'lyricist'\n",
    "members = pd.read_csv('members.csv')\n",
    "songsextra = pd.read_csv('song_extra_info.csv')\n",
    "sample = pd.read_csv('sample_submission.csv')\n",
    "\n",
    "\n",
    "print('Data loading completed!')\n",
    "print(train.shape, test.shape, songs.shape, members.shape,sample.shape,songsextra.shape)"
   ]
  },
  {
   "cell_type": "code",
   "execution_count": 3,
   "id": "9c34eeb5",
   "metadata": {},
   "outputs": [
    {
     "name": "stdout",
     "output_type": "stream",
     "text": [
      "Index(['msno', 'song_id', 'source_system_tab', 'source_screen_name',\n",
      "       'source_type', 'target'],\n",
      "      dtype='object')\n",
      "Index(['id', 'msno', 'song_id', 'source_system_tab', 'source_screen_name',\n",
      "       'source_type'],\n",
      "      dtype='object')\n",
      "Index(['song_id', 'song_length', 'genre_ids', 'artist_name', 'composer',\n",
      "       'lyricist', 'language'],\n",
      "      dtype='object')\n",
      "Index(['msno', 'city', 'bd', 'gender', 'registered_via',\n",
      "       'registration_init_time', 'expiration_date'],\n",
      "      dtype='object')\n",
      "Index(['song_id', 'name', 'isrc'], dtype='object')\n",
      "Index(['id', 'target'], dtype='object')\n"
     ]
    }
   ],
   "source": [
    "print(train.columns)\n",
    "print(test.columns)\n",
    "print(songs.columns)\n",
    "print(members.columns)\n",
    "print(songsextra.columns)\n",
    "print(sample.columns)"
   ]
  },
  {
   "cell_type": "code",
   "execution_count": 4,
   "id": "3ddc6de1",
   "metadata": {
    "scrolled": true
   },
   "outputs": [
    {
     "data": {
      "text/plain": [
       "(             target\n",
       " count  7.377418e+06\n",
       " mean   5.035171e-01\n",
       " std    4.999877e-01\n",
       " min    0.000000e+00\n",
       " 25%    0.000000e+00\n",
       " 50%    1.000000e+00\n",
       " 75%    1.000000e+00\n",
       " max    1.000000e+00,\n",
       "                  id\n",
       " count  2.556790e+06\n",
       " mean   1.278394e+06\n",
       " std    7.380818e+05\n",
       " min    0.000000e+00\n",
       " 25%    6.391972e+05\n",
       " 50%    1.278394e+06\n",
       " 75%    1.917592e+06\n",
       " max    2.556789e+06,\n",
       "         song_length      language\n",
       " count  2.296320e+06  2.296319e+06\n",
       " mean   2.469935e+05  3.237800e+01\n",
       " std    1.609200e+05  2.433241e+01\n",
       " min    1.850000e+02 -1.000000e+00\n",
       " 25%    1.836000e+05 -1.000000e+00\n",
       " 50%    2.266270e+05  5.200000e+01\n",
       " 75%    2.772690e+05  5.200000e+01\n",
       " max    1.217385e+07  5.900000e+01,\n",
       "                city            bd  registered_via  registration_init_time  \\\n",
       " count  34403.000000  34403.000000    34403.000000            3.440300e+04   \n",
       " mean       5.371276     12.280935        5.953376            2.013994e+07   \n",
       " std        6.243929     18.170251        2.287534            2.954015e+04   \n",
       " min        1.000000    -43.000000        3.000000            2.004033e+07   \n",
       " 25%        1.000000      0.000000        4.000000            2.012103e+07   \n",
       " 50%        1.000000      0.000000        7.000000            2.015090e+07   \n",
       " 75%       10.000000     25.000000        9.000000            2.016110e+07   \n",
       " max       22.000000   1051.000000       16.000000            2.017023e+07   \n",
       " \n",
       "        expiration_date  \n",
       " count     3.440300e+04  \n",
       " mean      2.016901e+07  \n",
       " std       7.320925e+03  \n",
       " min       1.970010e+07  \n",
       " 25%       2.017020e+07  \n",
       " 50%       2.017091e+07  \n",
       " 75%       2.017093e+07  \n",
       " max       2.020102e+07  ,\n",
       "                  id     target\n",
       " count  2.556790e+06  2556790.0\n",
       " mean   1.278394e+06        0.5\n",
       " std    7.380818e+05        0.0\n",
       " min    0.000000e+00        0.5\n",
       " 25%    6.391972e+05        0.5\n",
       " 50%    1.278394e+06        0.5\n",
       " 75%    1.917592e+06        0.5\n",
       " max    2.556789e+06        0.5,\n",
       "                                              song_id     name          isrc\n",
       " count                                        2295971  2295969       2159423\n",
       " unique                                       2295971  1168979       1806825\n",
       " top     LP7pLJoJFBvyuUwvu+oLzjT+bI+UeBPURCecJsX1jjs=    Intro  GBPS81518952\n",
       " freq                                               1     1734           207)"
      ]
     },
     "execution_count": 4,
     "metadata": {},
     "output_type": "execute_result"
    }
   ],
   "source": [
    "train.describe(),test.describe(),songs.describe(),members.describe(),sample.describe(),songsextra.describe()"
   ]
  },
  {
   "cell_type": "markdown",
   "id": "c307048d",
   "metadata": {},
   "source": [
    "### Data Cleaning "
   ]
  },
  {
   "cell_type": "code",
   "execution_count": 5,
   "id": "8774974b",
   "metadata": {},
   "outputs": [],
   "source": [
    "song_cols = ['song_id', 'song_length', 'genre_ids', 'artist_name', 'composer', 'language']\n",
    "train = train.merge(songs[song_cols], on='song_id', how='left')\n",
    "test = test.merge(songs[song_cols], on='song_id', how='left')\n",
    "\n",
    "mem_cols = ['msno', 'city', 'bd', 'gender']\n",
    "train = train.merge(members[mem_cols], on='msno', how='left')\n",
    "test = test.merge(members[mem_cols], on='msno', how='left')\n",
    "\n",
    "for col in [['msno', 'song_id', 'source_system_tab', 'source_screen_name',\n",
    "             'source_type', 'genre_ids', 'artist_name',\n",
    "             'composer', 'language', 'city', 'gender']]:\n",
    "            train[col] = train[col].astype('category')\n",
    "            test[col] = test[col].astype('category')"
   ]
  },
  {
   "cell_type": "code",
   "execution_count": 6,
   "id": "6dbb41fd",
   "metadata": {},
   "outputs": [
    {
     "name": "stdout",
     "output_type": "stream",
     "text": [
      "MXIMDXO0j3UpaT7FvOSGW6Y5zfhlh+xYjTqGoUdMzEE=    5819\n",
      "o+5RNlSWrzvrphgBNGIo1FLkGxBgyICns6qXj3nS7Pk=    5537\n",
      "FGtllVqz18RPiwJj/edr2gV78zirAiY/9SmYvia+kCg=    5511\n",
      "KGXNZ/H3VxvET/+rGxlrAe7Gpz2eKMXyuSg3xh8Ij1M=    4217\n",
      "cqjRBV/jWN2ujhc+z/4tz+Mj6xEfflAAt6qBXCqxKvw=    4008\n",
      "                                                ... \n",
      "duhypyeC9me8VBvbMNbCiLfmWorBd8vvQ05O2izI8r4=       1\n",
      "dtt2VylgQ0l2/4PY0lo0MFdObUJqEecjw/iQSqypY+Q=       1\n",
      "99S9vfMxOeK+HzFOaklL5sDEsAdUOHxoGdlGwb9R5/8=       1\n",
      "GUKTK1pT3pWEnlEparWdLZKpCzYaJqBf2dAfoWFDqxQ=       1\n",
      "YKx6/2NcNyyNLUg0erPb40lYocgqS8R3rZJbqypsmLQ=       1\n",
      "Name: msno, Length: 30755, dtype: int64 \n",
      "\n",
      "reXuGcEWDDCnL0K3Th//3DFG4S1ACSpJMzA+CFipo1g=    13973\n",
      "T86YHdD4C9JSc274b1IlMkLuNdz4BQRB50fWWE7hx9g=    13293\n",
      "wBTWuHbjdjxnG1lQcbqnK4FddV24rUhuyrYLd9c/hmk=    13079\n",
      "FynUyq0+drmIARmK1JZ/qcjNZ7DKkqTY6/0O0lTzNUI=    12855\n",
      "PgRtmmESVNtWjoZHO5a1r21vIz9sVZmcJJpFCbRa1LI=    12004\n",
      "                                                ...  \n",
      "RBZxpLNvCiACo2IzK4hv5GC5KvWQgN79ek01ka5xu78=        1\n",
      "RBb7aylXWZrSREUV62FRCqLHK/Wwd1qz1CZVclG+R/s=        1\n",
      "RBcbeXrzRD90DkDBho5KlztUwXjWX7YzkvLNgjQpWhI=        1\n",
      "RBdJc+1HD2rB2N1r35D6aAN9m5xZVqFwnkbMVJmuMMM=        1\n",
      "zzzkIR9d2ggpCr5ofvGZu0JFdjScoIxMgcV3dR4yKh0=        1\n",
      "Name: song_id, Length: 359966, dtype: int64 \n",
      "\n",
      "my library      3684730\n",
      "discover        2179252\n",
      "search           623286\n",
      "radio            476701\n",
      "listen with      212266\n",
      "explore          167949\n",
      "notification       6185\n",
      "settings           2200\n",
      "Name: source_system_tab, dtype: int64 \n",
      "\n",
      "Local playlist more     3228202\n",
      "Online playlist more    1294689\n",
      "Radio                    474467\n",
      "Album more               420156\n",
      "Search                   298487\n",
      "Artist more              252429\n",
      "Discover Feature         244246\n",
      "Discover Chart           213658\n",
      "Others profile more      201795\n",
      "Discover Genre            82202\n",
      "My library                75980\n",
      "Explore                   72342\n",
      "Unknown                   54170\n",
      "Discover New              15955\n",
      "Search Trends             13632\n",
      "Search Home               13482\n",
      "My library_Search          6451\n",
      "Self profile more           212\n",
      "Concert                      47\n",
      "Payment                      12\n",
      "Name: source_screen_name, dtype: int64 \n",
      "\n",
      "local-library             2261399\n",
      "online-playlist           1967924\n",
      "local-playlist            1079503\n",
      "radio                      483109\n",
      "album                      477344\n",
      "top-hits-for-artist        423614\n",
      "song                       244722\n",
      "song-based-playlist        210527\n",
      "listen-with                192842\n",
      "topic-article-playlist      11194\n",
      "artist                       3038\n",
      "my-daily-playlist             663\n",
      "Name: source_type, dtype: int64 \n",
      "\n",
      "1    3714656\n",
      "0    3662762\n",
      "Name: target, dtype: int64 \n",
      "\n",
      "235415.0    18749\n",
      "258298.0    18440\n",
      "219324.0    17756\n",
      "250357.0    17740\n",
      "265508.0    16452\n",
      "            ...  \n",
      "68405.0         1\n",
      "304911.0        1\n",
      "181953.0        1\n",
      "217323.0        1\n",
      "485575.0        1\n",
      "Name: song_length, Length: 60266, dtype: int64 \n",
      "\n",
      "465         3717690\n",
      "458         1261208\n",
      "921          350311\n",
      "1609         315089\n",
      "444          243600\n",
      "             ...   \n",
      "1187              1\n",
      "545|1259          1\n",
      "545|430           1\n",
      "656|1011          1\n",
      "437|359           1\n",
      "Name: genre_ids, Length: 572, dtype: int64 \n",
      "\n",
      "Various Artists                           303616\n",
      "周杰倫 (Jay Chou)                            186776\n",
      "五月天 (Mayday)                              182088\n",
      "林俊傑 (JJ Lin)                              115325\n",
      "田馥甄 (Hebe)                                104946\n",
      "                                           ...  \n",
      "Michele Boegner                                1\n",
      "Michel Boegner| Les Solistes de France         1\n",
      "Michel                                         1\n",
      "Micheal White                                  1\n",
      "ｗ２ｗＧｏ！Ｇｏ！ぱわふる学園                                1\n",
      "Name: artist_name, Length: 40582, dtype: int64 \n",
      "\n",
      "周杰倫                                                                                                              201910\n",
      "阿信                                                                                                                90343\n",
      "林俊傑                                                                                                               78606\n",
      "陳皓宇                                                                                                               58837\n",
      "JJ Lin                                                                                                            48089\n",
      "                                                                                                                  ...  \n",
      "Teddy Riley| Roosevelt \"Bink\" Harrell| Bunny DeBarge| Walter \"Mucho\" Chauncey Andrae Hannibal| Karen Anderson         1\n",
      "Teddy Riley| Richard \"Nicky\" Stanard| Chauncey Hannibal                                                               1\n",
      "Teddy Riley| Michael Jackson| Tammy Lucas                                                                             1\n",
      "Teddy Riley| Mark L Middleton| Markell Demont Riley| Sherri Blaire| Walter \"Mucho\" Chauncey Andrae Hannibal           1\n",
      "W.B Bradbury                                                                                                          1\n",
      "Name: composer, Length: 76064, dtype: int64 \n",
      "\n",
      "3.0     4044643\n",
      "52.0    1864789\n",
      "31.0     656623\n",
      "-1.0     308752\n",
      "17.0     245136\n",
      "10.0     171904\n",
      "24.0      78621\n",
      "59.0       4193\n",
      "45.0       2397\n",
      "38.0        210\n",
      "Name: language, dtype: int64 \n",
      "\n",
      "1     2621293\n",
      "13    1144863\n",
      "5      830128\n",
      "4      545820\n",
      "15     484078\n",
      "22     460330\n",
      "6      275781\n",
      "14     236639\n",
      "12     147133\n",
      "9       95237\n",
      "8       85734\n",
      "18      81780\n",
      "11      71542\n",
      "10      69158\n",
      "21      67097\n",
      "3       63555\n",
      "17      44688\n",
      "7       31621\n",
      "16       7887\n",
      "19       6961\n",
      "20       6093\n",
      "Name: city, dtype: int64 \n",
      "\n",
      "0       2940499\n",
      "25       261906\n",
      "24       258688\n",
      "26       257869\n",
      "22       255731\n",
      "         ...   \n",
      "89           11\n",
      "93           10\n",
      "78            7\n",
      "1051          6\n",
      "76            3\n",
      "Name: bd, Length: 92, dtype: int64 \n",
      "\n",
      "male      2297623\n",
      "female    2118316\n",
      "Name: gender, dtype: int64 \n",
      "\n"
     ]
    }
   ],
   "source": [
    "for col in train.columns:\n",
    "    print(train[col].value_counts(), \"\\n\")\n",
    "\n",
    "    \n",
    "train = train.drop(['bd', 'msno', 'song_length', 'source_system_tab'], axis = 1)\n",
    "test = test.drop(['bd', 'msno', 'song_length', 'source_system_tab'], axis = 1)"
   ]
  },
  {
   "cell_type": "code",
   "execution_count": 7,
   "id": "2a218106",
   "metadata": {},
   "outputs": [
    {
     "data": {
      "text/plain": [
       "Index(['song_id', 'source_screen_name', 'source_type', 'target', 'genre_ids',\n",
       "       'artist_name', 'composer', 'language', 'city', 'gender'],\n",
       "      dtype='object')"
      ]
     },
     "execution_count": 7,
     "metadata": {},
     "output_type": "execute_result"
    }
   ],
   "source": [
    "train.columns"
   ]
  },
  {
   "cell_type": "code",
   "execution_count": 8,
   "id": "14ffdc11",
   "metadata": {},
   "outputs": [
    {
     "data": {
      "text/plain": [
       "Index(['id', 'song_id', 'source_screen_name', 'source_type', 'genre_ids',\n",
       "       'artist_name', 'composer', 'language', 'city', 'gender'],\n",
       "      dtype='object')"
      ]
     },
     "execution_count": 8,
     "metadata": {},
     "output_type": "execute_result"
    }
   ],
   "source": [
    "test.columns"
   ]
  },
  {
   "cell_type": "code",
   "execution_count": 9,
   "id": "1651caf9",
   "metadata": {},
   "outputs": [],
   "source": [
    "df_col = [ 'song_id', 'source_screen_name',\n",
    "       'source_type', 'genre_ids', 'artist_name', 'language', 'city', 'gender']\n",
    "train = train.drop(['composer'], axis=1)\n",
    "test = test.drop(['composer'], axis=1)\n",
    "from sklearn.preprocessing import LabelEncoder\n",
    "\n",
    "for i in range(len(df_col)):\n",
    "    train[df_col[i]] = LabelEncoder().fit_transform(train[df_col[i]])\n",
    "    \n",
    "for i in range(len(df_col)):\n",
    "    test[df_col[i]] = LabelEncoder().fit_transform(test[df_col[i]])"
   ]
  },
  {
   "cell_type": "code",
   "execution_count": 10,
   "id": "1a46fe93",
   "metadata": {},
   "outputs": [],
   "source": [
    "from sklearn.impute import SimpleImputer\n",
    "my_imputer = SimpleImputer()\n",
    "train = my_imputer.fit_transform(train)\n",
    "\n",
    "my_imputer = SimpleImputer()\n",
    "test = my_imputer.fit_transform(test)"
   ]
  },
  {
   "cell_type": "code",
   "execution_count": 11,
   "id": "73ba795e",
   "metadata": {},
   "outputs": [
    {
     "data": {
      "text/plain": [
       "array([[0.000000e+00, 1.221910e+05, 8.000000e+00, ..., 1.000000e+00,\n",
       "        0.000000e+00, 2.000000e+00],\n",
       "       [1.000000e+00, 2.179070e+05, 8.000000e+00, ..., 1.000000e+00,\n",
       "        0.000000e+00, 2.000000e+00],\n",
       "       [2.000000e+00, 3.738500e+04, 2.200000e+01, ..., 3.000000e+00,\n",
       "        0.000000e+00, 2.000000e+00],\n",
       "       ...,\n",
       "       [2.556787e+06, 2.194190e+05, 2.200000e+01, ..., 1.000000e+00,\n",
       "        1.100000e+01, 1.000000e+00],\n",
       "       [2.556788e+06, 1.213260e+05, 2.200000e+01, ..., 1.000000e+00,\n",
       "        1.100000e+01, 1.000000e+00],\n",
       "       [2.556789e+06, 1.543080e+05, 2.200000e+01, ..., 1.000000e+00,\n",
       "        1.100000e+01, 1.000000e+00]])"
      ]
     },
     "execution_count": 11,
     "metadata": {},
     "output_type": "execute_result"
    }
   ],
   "source": [
    "test"
   ]
  },
  {
   "cell_type": "code",
   "execution_count": 12,
   "id": "c07cc4e4",
   "metadata": {},
   "outputs": [
    {
     "data": {
      "text/plain": [
       "array([[7.46790e+04, 7.00000e+00, 6.00000e+00, ..., 8.00000e+00,\n",
       "        0.00000e+00, 2.00000e+00],\n",
       "       [2.23479e+05, 8.00000e+00, 4.00000e+00, ..., 8.00000e+00,\n",
       "        1.10000e+01, 0.00000e+00],\n",
       "       [1.20758e+05, 8.00000e+00, 4.00000e+00, ..., 8.00000e+00,\n",
       "        1.10000e+01, 0.00000e+00],\n",
       "       ...,\n",
       "       [5.15460e+04, 1.50000e+01, 8.00000e+00, ..., 1.00000e+00,\n",
       "        0.00000e+00, 2.00000e+00],\n",
       "       [1.02430e+05, 5.00000e+00, 6.00000e+00, ..., 8.00000e+00,\n",
       "        3.00000e+00, 2.00000e+00],\n",
       "       [1.23573e+05, 5.00000e+00, 6.00000e+00, ..., 8.00000e+00,\n",
       "        3.00000e+00, 2.00000e+00]])"
      ]
     },
     "execution_count": 12,
     "metadata": {},
     "output_type": "execute_result"
    }
   ],
   "source": [
    "train"
   ]
  },
  {
   "cell_type": "code",
   "execution_count": 13,
   "id": "b261923a",
   "metadata": {},
   "outputs": [],
   "source": [
    "train = train.astype(int)\n",
    "test = test.astype(int)"
   ]
  },
  {
   "cell_type": "markdown",
   "id": "e7e38372",
   "metadata": {},
   "source": [
    "# visualization "
   ]
  },
  {
   "cell_type": "code",
   "execution_count": 14,
   "id": "72f49037",
   "metadata": {
    "scrolled": true
   },
   "outputs": [
    {
     "data": {
      "image/png": "[encoded data removed]",
      "text/plain": [
       "<Figure size 504x360 with 2 Axes>"
      ]
     },
     "metadata": {
      "needs_background": "light"
     },
     "output_type": "display_data"
    }
   ],
   "source": [
    "plt.figure(figsize=[7,5])\n",
    "sns.heatmap(songs.corr())\n",
    "plt.show()"
   ]
  },
  {
   "cell_type": "code",
   "execution_count": 15,
   "id": "680f694d",
   "metadata": {},
   "outputs": [
    {
     "data": {
      "text/plain": [
       "(array([ 745762.,   15482.,       0.,   92518.,   41744.,   39201.,\n",
       "           2385.,   14435., 1336694.,    8098.]),\n",
       " array([-1.,  5., 11., 17., 23., 29., 35., 41., 47., 53., 59.]),\n",
       " <BarContainer object of 10 artists>)"
      ]
     },
     "execution_count": 15,
     "metadata": {},
     "output_type": "execute_result"
    },
    {
     "data": {
      "image/png": "[encoded data removed]",
      "text/plain": [
       "<Figure size 432x288 with 1 Axes>"
      ]
     },
     "metadata": {
      "needs_background": "light"
     },
     "output_type": "display_data"
    }
   ],
   "source": [
    "plt.hist(songs.language)"
   ]
  },
  {
   "cell_type": "code",
   "execution_count": 16,
   "id": "9d9bb473",
   "metadata": {},
   "outputs": [
    {
     "data": {
      "text/plain": [
       "(array([ 639467.,  106295.,       0.,   15482.,       0.,       0.,\n",
       "          92518.,       0.,   41744.,       0.,   39201.,       0.,\n",
       "              0.,    2385.,       0.,   14435.,       0., 1336694.,\n",
       "              0.,    8098.]),\n",
       " array([-1.,  2.,  5.,  8., 11., 14., 17., 20., 23., 26., 29., 32., 35.,\n",
       "        38., 41., 44., 47., 50., 53., 56., 59.]),\n",
       " <BarContainer object of 20 artists>)"
      ]
     },
     "execution_count": 16,
     "metadata": {},
     "output_type": "execute_result"
    },
    {
     "data": {
      "image/png": "[encoded data removed]",
      "text/plain": [
       "<Figure size 432x288 with 1 Axes>"
      ]
     },
     "metadata": {
      "needs_background": "light"
     },
     "output_type": "display_data"
    }
   ],
   "source": [
    "plt.hist(songs.language, bins=20, color='c')\n"
   ]
  },
  {
   "cell_type": "markdown",
   "id": "abc176b4",
   "metadata": {},
   "source": [
    "#### Checking for outliers in bd column"
   ]
  },
  {
   "cell_type": "code",
   "execution_count": 17,
   "id": "777d1196",
   "metadata": {},
   "outputs": [
    {
     "data": {
      "text/plain": [
       "<AxesSubplot:xlabel='bd'>"
      ]
     },
     "execution_count": 17,
     "metadata": {},
     "output_type": "execute_result"
    },
    {
     "data": {
      "image/png": "[encoded data removed]",
      "text/plain": [
       "<Figure size 432x288 with 1 Axes>"
      ]
     },
     "metadata": {
      "needs_background": "light"
     },
     "output_type": "display_data"
    }
   ],
   "source": [
    "sns.boxplot(x=members['bd'])"
   ]
  },
  {
   "cell_type": "code",
   "execution_count": 18,
   "id": "a8354ae4",
   "metadata": {},
   "outputs": [
    {
     "data": {
      "image/png": "[encoded data removed]",
      "text/plain": [
       "<Figure size 1440x1080 with 1 Axes>"
      ]
     },
     "metadata": {
      "needs_background": "light"
     },
     "output_type": "display_data"
    }
   ],
   "source": [
    "plt.figure(figsize=(20,15)) \n",
    "sns.countplot(x ='bd', data = members) \n",
    "plt.xticks(rotation='90')\n",
    "plt.title('Count plot for bd for members.csv',fontsize=30)\n",
    "plt.show() "
   ]
  },
  {
   "cell_type": "code",
   "execution_count": 19,
   "id": "363d333a",
   "metadata": {},
   "outputs": [
    {
     "data": {
      "text/plain": [
       "count    34403.000000\n",
       "mean        12.280935\n",
       "std         18.170251\n",
       "min        -43.000000\n",
       "25%          0.000000\n",
       "50%          0.000000\n",
       "75%         25.000000\n",
       "max       1051.000000\n",
       "Name: bd, dtype: float64"
      ]
     },
     "execution_count": 19,
     "metadata": {},
     "output_type": "execute_result"
    }
   ],
   "source": [
    "members[\"bd\"].describe()"
   ]
  },
  {
   "cell_type": "code",
   "execution_count": 20,
   "id": "35e3b02c",
   "metadata": {},
   "outputs": [
    {
     "name": "stdout",
     "output_type": "stream",
     "text": [
      "40.74 % of user is between 10 and 50\n"
     ]
    }
   ],
   "source": [
    "count=0\n",
    "for i in members[\"bd\"]:\n",
    "    if i<=50 and i>=10:\n",
    "        count+=1\n",
    "percentage=(count/len(members[\"bd\"]))*100\n",
    "percentage=(\"{:.2f}\".format(percentage))\n",
    "print(percentage,\"% of user is between 10 and 50\")"
   ]
  },
  {
   "cell_type": "markdown",
   "id": "9d3beb44",
   "metadata": {},
   "source": [
    "Along with plots when we used .describe() function we have found 50% value is zero's which means half of our data is outliers and we also found that we have max value as 1051 and min value as -43 as all we know no one can have age belonging to these number's we have found 40.74% user has age between 10-50 however if we remove outliers from our data then this percentage value will increase to 98-99% because we have 50% of our data as zero's"
   ]
  },
  {
   "cell_type": "markdown",
   "id": "172ee906",
   "metadata": {},
   "source": [
    "##### Gender Column"
   ]
  },
  {
   "cell_type": "code",
   "execution_count": 21,
   "id": "464b7f11",
   "metadata": {
    "scrolled": true
   },
   "outputs": [
    {
     "data": {
      "image/png": "[encoded data removed]",
      "text/plain": [
       "<Figure size 720x720 with 1 Axes>"
      ]
     },
     "metadata": {},
     "output_type": "display_data"
    }
   ],
   "source": [
    "import matplotlib as mpl\n",
    "\n",
    "mpl.rcParams['font.size'] = 20.0\n",
    "labels = ['Male','Female']\n",
    "plt.figure(figsize = (10, 10))\n",
    "sizes = pd.value_counts(members.gender)\n",
    "patches, texts, autotexts = plt.pie(sizes, \n",
    "                                    labels=labels, autopct='%.0f%%',\n",
    "                                    shadow=False, radius=1,startangle=90)\n",
    "for t in texts:\n",
    "    t.set_size('smaller')\n",
    "plt.legend()\n",
    "plt.show()"
   ]
  },
  {
   "cell_type": "code",
   "execution_count": 22,
   "id": "a62e13a6",
   "metadata": {},
   "outputs": [
    {
     "name": "stdout",
     "output_type": "stream",
     "text": [
      "Total count of gender column of members                   :   34403\n",
      "Number of NaN value in gender column of members           :   19902\n",
      "Number of non-NaN value in gender coumn of members        :   14501\n",
      "Total percentage of NaN value in gender column of members :   57.850 %\n",
      "-----------------------------------------------------------------------\n"
     ]
    }
   ],
   "source": [
    "count = members[\"gender\"].isna().sum()\n",
    "percentage=(count/len(members['gender']))*100\n",
    "percentage = \"{:.3f}\".format(percentage)\n",
    "print(\"Total count of gender column of members                   :  \",len(members['gender']))\n",
    "print(\"Number of NaN value in gender column of members           :  \",count)\n",
    "print(\"Number of non-NaN value in gender coumn of members        :  \",(len(members['gender'])-count))\n",
    "print(\"Total percentage of NaN value in gender column of members :  \",percentage+\" %\")\n",
    "print(\"-----------------------------------------------------------------------\")"
   ]
  },
  {
   "cell_type": "markdown",
   "id": "3a62c33b",
   "metadata": {},
   "source": [
    "#### City column"
   ]
  },
  {
   "cell_type": "code",
   "execution_count": 23,
   "id": "d4451c3c",
   "metadata": {},
   "outputs": [
    {
     "data": {
      "image/png": "[encoded data removed]",
      "text/plain": [
       "<Figure size 1440x1080 with 1 Axes>"
      ]
     },
     "metadata": {
      "needs_background": "light"
     },
     "output_type": "display_data"
    }
   ],
   "source": [
    "plt.figure(figsize=(20,15))\n",
    "sns.countplot(x ='city', data = members) \n",
    "plt.xticks(rotation='90')\n",
    "plt.title('Count plot for city for members.csv',fontsize=30)\n",
    "plt.show() "
   ]
  },
  {
   "cell_type": "markdown",
   "id": "aaa7501a",
   "metadata": {},
   "source": [
    "#### Registered via column"
   ]
  },
  {
   "cell_type": "code",
   "execution_count": 24,
   "id": "288e812a",
   "metadata": {},
   "outputs": [
    {
     "data": {
      "image/png": "[encoded data removed]",
      "text/plain": [
       "<Figure size 1080x720 with 1 Axes>"
      ]
     },
     "metadata": {
      "needs_background": "light"
     },
     "output_type": "display_data"
    }
   ],
   "source": [
    "plt.figure(figsize=(15,10))\n",
    "sns.countplot(x ='registered_via', data = members) \n",
    "plt.title('Count plot for registered_via for members.csv',fontsize=30)\n",
    "plt.show() "
   ]
  },
  {
   "cell_type": "code",
   "execution_count": 25,
   "id": "c3375d5d",
   "metadata": {},
   "outputs": [
    {
     "data": {
      "text/plain": [
       "0    20110820\n",
       "1    20150628\n",
       "2    20160411\n",
       "3    20150906\n",
       "4    20170126\n",
       "Name: registration_init_time, dtype: int64"
      ]
     },
     "execution_count": 25,
     "metadata": {},
     "output_type": "execute_result"
    }
   ],
   "source": [
    "members[\"registration_init_time\"].head()"
   ]
  },
  {
   "cell_type": "code",
   "execution_count": 26,
   "id": "083786b6",
   "metadata": {},
   "outputs": [
    {
     "data": {
      "text/plain": [
       "0    20170920\n",
       "1    20170622\n",
       "2    20170712\n",
       "3    20150907\n",
       "4    20170613\n",
       "Name: expiration_date, dtype: int64"
      ]
     },
     "execution_count": 26,
     "metadata": {},
     "output_type": "execute_result"
    }
   ],
   "source": [
    "members[\"expiration_date\"].head()"
   ]
  },
  {
   "cell_type": "markdown",
   "id": "3ce45fdd",
   "metadata": {},
   "source": [
    "#### Format Conversion"
   ]
  },
  {
   "cell_type": "code",
   "execution_count": 27,
   "id": "7967fb3b",
   "metadata": {},
   "outputs": [
    {
     "data": {
      "text/plain": [
       "msno                              object\n",
       "city                               int64\n",
       "bd                                 int64\n",
       "gender                            object\n",
       "registered_via                     int64\n",
       "registration_init_time    datetime64[ns]\n",
       "expiration_date           datetime64[ns]\n",
       "dtype: object"
      ]
     },
     "execution_count": 27,
     "metadata": {},
     "output_type": "execute_result"
    }
   ],
   "source": [
    "import pandas as pd\n",
    "import numpy as np \n",
    "import datetime\n",
    "members[\"expiration_date\"]= pd.to_datetime(members[\"expiration_date\"],format='%Y%m%d') \n",
    "members[\"registration_init_time\"]= pd.to_datetime(members[\"registration_init_time\"],format='%Y%m%d') \n",
    "members.dtypes"
   ]
  },
  {
   "cell_type": "code",
   "execution_count": 28,
   "id": "5076f24f",
   "metadata": {},
   "outputs": [
    {
     "data": {
      "text/plain": [
       "0   2017-09-20\n",
       "1   2017-06-22\n",
       "2   2017-07-12\n",
       "3   2015-09-07\n",
       "4   2017-06-13\n",
       "Name: expiration_date, dtype: datetime64[ns]"
      ]
     },
     "execution_count": 28,
     "metadata": {},
     "output_type": "execute_result"
    }
   ],
   "source": [
    "members[\"registration_init_time\"].head()\n",
    "members[\"expiration_date\"].head()"
   ]
  },
  {
   "cell_type": "code",
   "execution_count": 29,
   "id": "b55332eb",
   "metadata": {},
   "outputs": [
    {
     "data": {
      "image/png": "[encoded data removed]",
      "text/plain": [
       "<Figure size 1440x720 with 1 Axes>"
      ]
     },
     "metadata": {
      "needs_background": "light"
     },
     "output_type": "display_data"
    }
   ],
   "source": [
    "plt.figure(figsize=(20,10))\n",
    "plt.hist(members[\"registration_init_time\"],bins=30,color='red')\n",
    "plt.xticks(rotation='90')\n",
    "plt.title('Histogram plot for registration_init for members.csv',fontsize=30)\n",
    "plt.show()"
   ]
  },
  {
   "cell_type": "markdown",
   "id": "cd440472",
   "metadata": {},
   "source": [
    "### Songs_extra Dataset"
   ]
  },
  {
   "cell_type": "markdown",
   "id": "1177a262",
   "metadata": {},
   "source": [
    "converting song duration from seconds to minutes"
   ]
  },
  {
   "cell_type": "code",
   "execution_count": 30,
   "id": "365ea9c4",
   "metadata": {},
   "outputs": [
    {
     "name": "stderr",
     "output_type": "stream",
     "text": [
      "100%|████████████████████████████████████████████████████████████████████| 2296320/2296320 [00:03<00:00, 616181.86it/s]\n"
     ]
    }
   ],
   "source": [
    "from tqdm import tqdm\n",
    "lst=[]\n",
    "for i in tqdm(songs[\"song_length\"]):\n",
    "    minutes = ((i/(1000*60))%60)\n",
    "    minutes = round(minutes)\n",
    "    lst.append(minutes)\n"
   ]
  },
  {
   "cell_type": "code",
   "execution_count": 31,
   "id": "eaf9bb0f",
   "metadata": {},
   "outputs": [],
   "source": [
    "songs[\"song_duration_minutes\"]=lst"
   ]
  },
  {
   "cell_type": "code",
   "execution_count": 32,
   "id": "efcd878a",
   "metadata": {},
   "outputs": [
    {
     "name": "stderr",
     "output_type": "stream",
     "text": [
      "C:\\ProgramData\\Anaconda3\\lib\\site-packages\\seaborn\\distributions.py:2619: FutureWarning: `distplot` is a deprecated function and will be removed in a future version. Please adapt your code to use either `displot` (a figure-level function with similar flexibility) or `histplot` (an axes-level function for histograms).\n",
      "  warnings.warn(msg, FutureWarning)\n"
     ]
    },
    {
     "data": {
      "text/plain": [
       "Text(0.5, 1.0, 'PDF for song_duration_minutes')"
      ]
     },
     "execution_count": 32,
     "metadata": {},
     "output_type": "execute_result"
    },
    {
     "data": {
      "image/png": "[encoded data removed]",
      "text/plain": [
       "<Figure size 1080x1080 with 1 Axes>"
      ]
     },
     "metadata": {
      "needs_background": "light"
     },
     "output_type": "display_data"
    }
   ],
   "source": [
    "plt.figure(figsize = (15, 15)) \n",
    "sns.distplot(songs.song_duration_minutes)\n",
    "sns.set(font_scale=2)\n",
    "plt.title('PDF for song_duration_minutes')"
   ]
  },
  {
   "cell_type": "code",
   "execution_count": 33,
   "id": "51c2ee45",
   "metadata": {},
   "outputs": [
    {
     "name": "stdout",
     "output_type": "stream",
     "text": [
      "98 % of song length is between 1 and 10\n"
     ]
    }
   ],
   "source": [
    "count1=0\n",
    "for i in songs[\"song_duration_minutes\"]:\n",
    "    if i<=10 and i>0:\n",
    "        count1+=1\n",
    "percentage1=(count1/len(songs[\"song_duration_minutes\"]))*100\n",
    "percentage1=round(percentage1)\n",
    "print(percentage1,\"% of song length is between 1 and 10\")"
   ]
  },
  {
   "cell_type": "code",
   "execution_count": 34,
   "id": "c9d45369",
   "metadata": {},
   "outputs": [
    {
     "name": "stdout",
     "output_type": "stream",
     "text": [
      "Total count for '864|857|850|843' in genre_ids column :  6842\n"
     ]
    }
   ],
   "source": [
    "\"\"\"plt.figure(figsize = (15, 15)) \n",
    "sns.distplot(songs.genre_ids)\n",
    "sns.set(font_scale=2)\n",
    "plt.title('PDF for genre id')\"\"\"\n",
    "count=0\n",
    "for i in songs[\"genre_ids\"]:\n",
    "    if i=='864|857|850|843':\n",
    "        count+=1\n",
    "print(\"Total count for '864|857|850|843' in genre_ids column : \",count)"
   ]
  },
  {
   "cell_type": "code",
   "execution_count": 35,
   "id": "83ae2bbd",
   "metadata": {},
   "outputs": [
    {
     "name": "stdout",
     "output_type": "stream",
     "text": [
      "['465', '444', '465', '465', '726', '458', '465', '465', '352|1995', '2157']\n"
     ]
    }
   ],
   "source": [
    "lst1=[]\n",
    "for i in songs[\"genre_ids\"]:\n",
    "  if i != '864|857|850|843':\n",
    "    lst1.append(i)\n",
    "print(lst1[:10])"
   ]
  },
  {
   "cell_type": "code",
   "execution_count": 36,
   "id": "052a86b9",
   "metadata": {},
   "outputs": [
    {
     "name": "stdout",
     "output_type": "stream",
     "text": [
      "Total count of values containing special character '|' in genre_ids column         :  172876\n",
      "Total percentage for values containing special character '|'  in genre_ids column  :  7.528393255295429 %\n"
     ]
    }
   ],
   "source": [
    "songs[\"genre_ids\"]=songs[\"genre_ids\"].astype(str)\n",
    "import re\n",
    "word = 'asdf*'\n",
    "special_char=0\n",
    "regexp = re.compile('[^0-9a-zA-Z]+')\n",
    "for i in songs[\"genre_ids\"]:\n",
    "  if regexp.search(i):\n",
    "    special_char+=1\n",
    "\n",
    "print(\"Total count of values containing special character '|' in genre_ids column         : \",special_char)\n",
    "print(\"Total percentage for values containing special character '|'  in genre_ids column  : \",(special_char/len(songs[\"genre_ids\"]))*100,\"%\")"
   ]
  },
  {
   "cell_type": "code",
   "execution_count": 37,
   "id": "26f26b36",
   "metadata": {},
   "outputs": [
    {
     "name": "stdout",
     "output_type": "stream",
     "text": [
      "Total count of gender column of members                   :   2296320\n",
      "Number of NaN value in gender column of members           :   0\n",
      "Number of non-NaN value in gender coumn of members        :   2296320\n",
      "-----------------------------------------------------------------------\n"
     ]
    }
   ],
   "source": [
    "count1 = songs[\"genre_ids\"].isnull().sum()\n",
    "print(\"Total count of gender column of members                   :  \",len(songs[\"genre_ids\"]))\n",
    "print(\"Number of NaN value in gender column of members           :  \",count1)\n",
    "print(\"Number of non-NaN value in gender coumn of members        :  \",(len(songs[\"genre_ids\"])-count1))\n",
    "print(\"-----------------------------------------------------------------------\")"
   ]
  },
  {
   "cell_type": "markdown",
   "id": "c682a130",
   "metadata": {},
   "source": [
    "#### Merging song and song extra"
   ]
  },
  {
   "cell_type": "code",
   "execution_count": 39,
   "id": "d6d6a814",
   "metadata": {},
   "outputs": [],
   "source": [
    "song_info = songsextra.merge(songs, on='song_id', how='left')"
   ]
  },
  {
   "cell_type": "code",
   "execution_count": 40,
   "id": "0c8a5828",
   "metadata": {},
   "outputs": [
    {
     "data": {
      "text/html": [
       "<div>\n",
       "<style scoped>\n",
       "    .dataframe tbody tr th:only-of-type {\n",
       "        vertical-align: middle;\n",
       "    }\n",
       "\n",
       "    .dataframe tbody tr th {\n",
       "        vertical-align: top;\n",
       "    }\n",
       "\n",
       "    .dataframe thead th {\n",
       "        text-align: right;\n",
       "    }\n",
       "</style>\n",
       "<table border=\"1\" class=\"dataframe\">\n",
       "  <thead>\n",
       "    <tr style=\"text-align: right;\">\n",
       "      <th></th>\n",
       "      <th>song_id</th>\n",
       "      <th>name</th>\n",
       "      <th>isrc</th>\n",
       "      <th>song_length</th>\n",
       "      <th>genre_ids</th>\n",
       "      <th>artist_name</th>\n",
       "      <th>composer</th>\n",
       "      <th>lyricist</th>\n",
       "      <th>language</th>\n",
       "      <th>song_duration_minutes</th>\n",
       "    </tr>\n",
       "  </thead>\n",
       "  <tbody>\n",
       "    <tr>\n",
       "      <th>0</th>\n",
       "      <td>LP7pLJoJFBvyuUwvu+oLzjT+bI+UeBPURCecJsX1jjs=</td>\n",
       "      <td>我們</td>\n",
       "      <td>TWUM71200043</td>\n",
       "      <td>307304.0</td>\n",
       "      <td>458</td>\n",
       "      <td>愛上巧克力 原聲帶</td>\n",
       "      <td>An-An Tso</td>\n",
       "      <td>NaN</td>\n",
       "      <td>3.0</td>\n",
       "      <td>5.0</td>\n",
       "    </tr>\n",
       "    <tr>\n",
       "      <th>1</th>\n",
       "      <td>ClazTFnk6r0Bnuie44bocdNMM3rdlrq0bCGAsGUWcHE=</td>\n",
       "      <td>Let Me Love You</td>\n",
       "      <td>QMZSY1600015</td>\n",
       "      <td>205914.0</td>\n",
       "      <td>1609</td>\n",
       "      <td>DJ Snake</td>\n",
       "      <td>Justin Bieber| William Grigahcine| Andrew Watt...</td>\n",
       "      <td>NaN</td>\n",
       "      <td>52.0</td>\n",
       "      <td>3.0</td>\n",
       "    </tr>\n",
       "    <tr>\n",
       "      <th>2</th>\n",
       "      <td>u2ja/bZE3zhCGxvbbOB3zOoUjx27u40cf5g09UXMoKQ=</td>\n",
       "      <td>原諒我</td>\n",
       "      <td>TWA530887303</td>\n",
       "      <td>252160.0</td>\n",
       "      <td>465</td>\n",
       "      <td>蕭敬騰 (Jam Hsiao)</td>\n",
       "      <td>A Qin</td>\n",
       "      <td>A Qin| Chen Tian You| Wu Yi Wei</td>\n",
       "      <td>3.0</td>\n",
       "      <td>4.0</td>\n",
       "    </tr>\n",
       "    <tr>\n",
       "      <th>3</th>\n",
       "      <td>92Fqsy0+p6+RHe2EoLKjHahORHR1Kq1TBJoClW9v+Ts=</td>\n",
       "      <td>Classic</td>\n",
       "      <td>USSM11301446</td>\n",
       "      <td>175427.0</td>\n",
       "      <td>465</td>\n",
       "      <td>MKTO</td>\n",
       "      <td>Evan Bogart|Andrew Goldstein|Lindy Robbins|Ema...</td>\n",
       "      <td>Evan Bogart|Andrew Goldstein|Lindy Robbins|Ema...</td>\n",
       "      <td>52.0</td>\n",
       "      <td>3.0</td>\n",
       "    </tr>\n",
       "    <tr>\n",
       "      <th>4</th>\n",
       "      <td>0QFmz/+rJy1Q56C1DuYqT9hKKqi5TUqx0sN0IwvoHrw=</td>\n",
       "      <td>愛投羅網</td>\n",
       "      <td>TWA471306001</td>\n",
       "      <td>294983.0</td>\n",
       "      <td>458</td>\n",
       "      <td>羅志祥 (Show Lo)</td>\n",
       "      <td>Drew Ryan Scott / David Moses Jassy / Niclas M...</td>\n",
       "      <td>Drew Ryan Scott / David Moses Jassy / Niclas M...</td>\n",
       "      <td>3.0</td>\n",
       "      <td>5.0</td>\n",
       "    </tr>\n",
       "  </tbody>\n",
       "</table>\n",
       "</div>"
      ],
      "text/plain": [
       "                                        song_id             name  \\\n",
       "0  LP7pLJoJFBvyuUwvu+oLzjT+bI+UeBPURCecJsX1jjs=               我們   \n",
       "1  ClazTFnk6r0Bnuie44bocdNMM3rdlrq0bCGAsGUWcHE=  Let Me Love You   \n",
       "2  u2ja/bZE3zhCGxvbbOB3zOoUjx27u40cf5g09UXMoKQ=              原諒我   \n",
       "3  92Fqsy0+p6+RHe2EoLKjHahORHR1Kq1TBJoClW9v+Ts=          Classic   \n",
       "4  0QFmz/+rJy1Q56C1DuYqT9hKKqi5TUqx0sN0IwvoHrw=             愛投羅網   \n",
       "\n",
       "           isrc  song_length genre_ids      artist_name  \\\n",
       "0  TWUM71200043     307304.0       458        愛上巧克力 原聲帶   \n",
       "1  QMZSY1600015     205914.0      1609         DJ Snake   \n",
       "2  TWA530887303     252160.0       465  蕭敬騰 (Jam Hsiao)   \n",
       "3  USSM11301446     175427.0       465             MKTO   \n",
       "4  TWA471306001     294983.0       458    羅志祥 (Show Lo)   \n",
       "\n",
       "                                            composer  \\\n",
       "0                                          An-An Tso   \n",
       "1  Justin Bieber| William Grigahcine| Andrew Watt...   \n",
       "2                                              A Qin   \n",
       "3  Evan Bogart|Andrew Goldstein|Lindy Robbins|Ema...   \n",
       "4  Drew Ryan Scott / David Moses Jassy / Niclas M...   \n",
       "\n",
       "                                            lyricist  language  \\\n",
       "0                                                NaN       3.0   \n",
       "1                                                NaN      52.0   \n",
       "2                    A Qin| Chen Tian You| Wu Yi Wei       3.0   \n",
       "3  Evan Bogart|Andrew Goldstein|Lindy Robbins|Ema...      52.0   \n",
       "4  Drew Ryan Scott / David Moses Jassy / Niclas M...       3.0   \n",
       "\n",
       "   song_duration_minutes  \n",
       "0                    5.0  \n",
       "1                    3.0  \n",
       "2                    4.0  \n",
       "3                    3.0  \n",
       "4                    5.0  "
      ]
     },
     "execution_count": 40,
     "metadata": {},
     "output_type": "execute_result"
    }
   ],
   "source": [
    "song_info.head()"
   ]
  },
  {
   "cell_type": "code",
   "execution_count": 41,
   "id": "207e986d",
   "metadata": {},
   "outputs": [
    {
     "name": "stdout",
     "output_type": "stream",
     "text": [
      "           genre_id   count\n",
      "0               465  567699\n",
      "1               958  176290\n",
      "2              2022  168805\n",
      "3              1609  166399\n",
      "4              2122  139873\n",
      "5              1259  101440\n",
      "6               nan   94073\n",
      "7               921   67561\n",
      "8              1152   48713\n",
      "9               359   43584\n",
      "10              786   42989\n",
      "11              726   34955\n",
      "12              139   34871\n",
      "13             1011   33999\n",
      "14              940   33474\n",
      "15         1572|275   24323\n",
      "16             1955   20970\n",
      "17              691   19468\n",
      "18      139|125|109   17601\n",
      "19              873   17533\n",
      "20              437   17202\n",
      "21              947   17099\n",
      "22              388   16770\n",
      "23              458   15434\n",
      "24              444   14853\n",
      "25             1616   14186\n",
      "26              242   13748\n",
      "27              451   13281\n",
      "28              880   13053\n",
      "29              423   11804\n",
      "30              829   11752\n",
      "31             2130   11049\n",
      "32             1138   10767\n",
      "33             1180   10700\n",
      "34        1616|2058    9277\n",
      "35              893    7526\n",
      "36         1152|947    7350\n",
      "37  864|857|850|843    6837\n",
      "38              409    6518\n",
      "39             2072    4987\n",
      "40              430    4862\n",
      "41              698    4843\n",
      "42              545    4510\n",
      "43               94    4500\n",
      "44         940|1152    4258\n",
      "45              798    4204\n",
      "46        1609|2107    4144\n",
      "47          940|388    3996\n",
      "48         2086|374    3970\n",
      "49             2079    3922\n"
     ]
    }
   ],
   "source": [
    "from collections import Counter \n",
    "import pandas as pd  \n",
    "d = Counter(song_info[\"genre_ids\"]) \n",
    "df = pd.DataFrame.from_records(d.most_common(), columns=['genre_id','count'])\n",
    "print(df.head(50))"
   ]
  },
  {
   "cell_type": "code",
   "execution_count": 42,
   "id": "dc0cef69",
   "metadata": {},
   "outputs": [
    {
     "data": {
      "text/html": [
       "<div>\n",
       "<style scoped>\n",
       "    .dataframe tbody tr th:only-of-type {\n",
       "        vertical-align: middle;\n",
       "    }\n",
       "\n",
       "    .dataframe tbody tr th {\n",
       "        vertical-align: top;\n",
       "    }\n",
       "\n",
       "    .dataframe thead th {\n",
       "        text-align: right;\n",
       "    }\n",
       "</style>\n",
       "<table border=\"1\" class=\"dataframe\">\n",
       "  <thead>\n",
       "    <tr style=\"text-align: right;\">\n",
       "      <th></th>\n",
       "      <th>count</th>\n",
       "    </tr>\n",
       "  </thead>\n",
       "  <tbody>\n",
       "    <tr>\n",
       "      <th>count</th>\n",
       "      <td>1047.000000</td>\n",
       "    </tr>\n",
       "    <tr>\n",
       "      <th>mean</th>\n",
       "      <td>2192.904489</td>\n",
       "    </tr>\n",
       "    <tr>\n",
       "      <th>std</th>\n",
       "      <td>21063.057511</td>\n",
       "    </tr>\n",
       "    <tr>\n",
       "      <th>min</th>\n",
       "      <td>1.000000</td>\n",
       "    </tr>\n",
       "    <tr>\n",
       "      <th>25%</th>\n",
       "      <td>3.000000</td>\n",
       "    </tr>\n",
       "    <tr>\n",
       "      <th>50%</th>\n",
       "      <td>13.000000</td>\n",
       "    </tr>\n",
       "    <tr>\n",
       "      <th>75%</th>\n",
       "      <td>101.500000</td>\n",
       "    </tr>\n",
       "    <tr>\n",
       "      <th>max</th>\n",
       "      <td>567699.000000</td>\n",
       "    </tr>\n",
       "  </tbody>\n",
       "</table>\n",
       "</div>"
      ],
      "text/plain": [
       "               count\n",
       "count    1047.000000\n",
       "mean     2192.904489\n",
       "std     21063.057511\n",
       "min         1.000000\n",
       "25%         3.000000\n",
       "50%        13.000000\n",
       "75%       101.500000\n",
       "max    567699.000000"
      ]
     },
     "execution_count": 42,
     "metadata": {},
     "output_type": "execute_result"
    }
   ],
   "source": [
    "df.describe()"
   ]
  },
  {
   "cell_type": "markdown",
   "id": "b145a4cd",
   "metadata": {},
   "source": [
    "Nan values in all columns"
   ]
  },
  {
   "cell_type": "code",
   "execution_count": 43,
   "id": "c18a55c9",
   "metadata": {
    "scrolled": true
   },
   "outputs": [
    {
     "name": "stdout",
     "output_type": "stream",
     "text": [
      "Total percentage for NaN value in song_id column        :  0.0 %\n",
      "Total percentage for NaN value in name column           :  8.710911418306241e-05 %\n",
      "Total percentage for NaN value in isrc column           :  5.9472876617344035 %\n",
      "Total percentage for NaN value in song_length column    :  0.023911451843250633 %\n",
      "Total percentage for NaN value in genre_ids column      :  0.023911451843250633 %\n",
      "Total percentage for NaN value in artist_name column    :  0.023911451843250633 %\n",
      "Total percentage for NaN value in composer column       :  46.6681417143335 %\n",
      "Total percentage for NaN value in lyricist column       :  84.71674947113878 %\n",
      "Total percentage for NaN value in language column       :  0.023955006400342163 %\n"
     ]
    }
   ],
   "source": [
    "print(\"Total percentage for NaN value in song_id column        : \",(song_info[\"song_id\"].isna().sum()/len(song_info[\"song_id\"]))*100,\"%\")\n",
    "print(\"Total percentage for NaN value in name column           : \",(song_info[\"name\"].isna().sum()/len(song_info[\"name\"]))*100,\"%\")\n",
    "print(\"Total percentage for NaN value in isrc column           : \",(song_info[\"isrc\"].isna().sum()/len(song_info[\"isrc\"]))*100,\"%\")\n",
    "print(\"Total percentage for NaN value in song_length column    : \",(song_info[\"song_length\"].isna().sum()/len(song_info[\"song_length\"]))*100,\"%\")\n",
    "print(\"Total percentage for NaN value in genre_ids column      : \",(song_info[\"genre_ids\"].isna().sum()/len(song_info[\"genre_ids\"]))*100,\"%\")\n",
    "\n",
    "\n",
    "print(\"Total percentage for NaN value in artist_name column    : \",(song_info[\"artist_name\"].isna().sum()/len(song_info[\"artist_name\"]))*100,\"%\")\n",
    "print(\"Total percentage for NaN value in composer column       : \",(song_info[\"composer\"].isna().sum()/len(song_info[\"composer\"]))*100,\"%\")\n",
    "print(\"Total percentage for NaN value in lyricist column       : \",(song_info[\"lyricist\"].isna().sum()/len(song_info[\"lyricist\"]))*100,\"%\")\n",
    "print(\"Total percentage for NaN value in language column       : \",(song_info[\"language\"].isna().sum()/len(song_info[\"language\"]))*100,\"%\")"
   ]
  },
  {
   "cell_type": "markdown",
   "id": "ef2eb0a0",
   "metadata": {},
   "source": [
    "### Music Recommendation - Using Random Forest, XGboos"
   ]
  },
  {
   "cell_type": "code",
   "execution_count": 51,
   "id": "cf3cb3cd",
   "metadata": {},
   "outputs": [
    {
     "name": "stdout",
     "output_type": "stream",
     "text": [
      "Collecting xgboost\n",
      "  Downloading xgboost-1.6.1-py3-none-win_amd64.whl (125.4 MB)\n",
      "Requirement already satisfied: scipy in c:\\programdata\\anaconda3\\lib\\site-packages (from xgboost) (1.7.1)\n",
      "Requirement already satisfied: numpy in c:\\programdata\\anaconda3\\lib\\site-packages (from xgboost) (1.20.3)\n",
      "Installing collected packages: xgboost\n",
      "Successfully installed xgboost-1.6.1\n",
      "Note: you may need to restart the kernel to use updated packages.\n"
     ]
    },
    {
     "name": "stderr",
     "output_type": "stream",
     "text": [
      "WARNING: Ignoring invalid distribution -cikit-learn (c:\\programdata\\anaconda3\\lib\\site-packages)\n",
      "WARNING: Ignoring invalid distribution -cikit-learn (c:\\programdata\\anaconda3\\lib\\site-packages)\n",
      "  WARNING: Retrying (Retry(total=4, connect=None, read=None, redirect=None, status=None)) after connection broken by 'NewConnectionError('<pip._vendor.urllib3.connection.HTTPSConnection object at 0x000001907423A8B0>: Failed to establish a new connection: [Errno 11001] getaddrinfo failed')': /packages/66/88/11cbea9c7a4ebae26c16ef20c14bfca3fa5aded4b0de27ccd8482429e7bf/xgboost-1.6.1-py3-none-win_amd64.whl\n",
      "WARNING: Ignoring invalid distribution -cikit-learn (c:\\programdata\\anaconda3\\lib\\site-packages)\n",
      "WARNING: Ignoring invalid distribution -cikit-learn (c:\\programdata\\anaconda3\\lib\\site-packages)\n",
      "WARNING: Ignoring invalid distribution -cikit-learn (c:\\programdata\\anaconda3\\lib\\site-packages)\n",
      "WARNING: Ignoring invalid distribution -cikit-learn (c:\\programdata\\anaconda3\\lib\\site-packages)\n",
      "WARNING: Ignoring invalid distribution -cikit-learn (c:\\programdata\\anaconda3\\lib\\site-packages)\n"
     ]
    }
   ],
   "source": [
    "pip install xgboost"
   ]
  },
  {
   "cell_type": "code",
   "execution_count": 52,
   "id": "0ac428cf",
   "metadata": {},
   "outputs": [],
   "source": [
    "# Load Python libraries\n",
    "from sklearn.model_selection import cross_validate\n",
    "from sklearn.model_selection import GridSearchCV\n",
    "from sklearn.model_selection import train_test_split\n",
    "from sklearn import ensemble, metrics\n",
    "import xgboost as xgb\n",
    "import numpy as np\n",
    "import pandas as pd\n",
    "import seaborn as sns\n",
    "import matplotlib.pyplot as plt\n",
    "import matplotlib as mpl\n",
    "import warnings\n",
    "warnings.filterwarnings('ignore')\n",
    "plt.style.use('ggplot')"
   ]
  },
  {
   "cell_type": "code",
   "execution_count": 53,
   "id": "3751f8f5",
   "metadata": {},
   "outputs": [],
   "source": [
    "df = pd.read_csv('train.csv')"
   ]
  },
  {
   "cell_type": "code",
   "execution_count": 54,
   "id": "633758dd",
   "metadata": {},
   "outputs": [],
   "source": [
    "df = pd.merge(df, songs, on='song_id', how='left')\n",
    "del songs"
   ]
  },
  {
   "cell_type": "code",
   "execution_count": 55,
   "id": "e7b5af26",
   "metadata": {},
   "outputs": [
    {
     "name": "stdout",
     "output_type": "stream",
     "text": [
      "<class 'pandas.core.frame.DataFrame'>\n",
      "Int64Index: 7377418 entries, 0 to 7377417\n",
      "Data columns (total 13 columns):\n",
      " #   Column                 Dtype  \n",
      "---  ------                 -----  \n",
      " 0   msno                   object \n",
      " 1   song_id                object \n",
      " 2   source_system_tab      object \n",
      " 3   source_screen_name     object \n",
      " 4   source_type            object \n",
      " 5   target                 int64  \n",
      " 6   song_length            float64\n",
      " 7   genre_ids              object \n",
      " 8   artist_name            object \n",
      " 9   composer               object \n",
      " 10  lyricist               object \n",
      " 11  language               float64\n",
      " 12  song_duration_minutes  float64\n",
      "dtypes: float64(3), int64(1), object(9)\n",
      "memory usage: 788.0+ MB\n"
     ]
    }
   ],
   "source": [
    "df.info()"
   ]
  },
  {
   "cell_type": "code",
   "execution_count": 56,
   "id": "80e0a359",
   "metadata": {},
   "outputs": [],
   "source": [
    "df = pd.merge(df, members, on='msno', how='left')\n",
    "del members"
   ]
  },
  {
   "cell_type": "code",
   "execution_count": 57,
   "id": "a509844e",
   "metadata": {},
   "outputs": [
    {
     "name": "stdout",
     "output_type": "stream",
     "text": [
      "<class 'pandas.core.frame.DataFrame'>\n",
      "Int64Index: 7377418 entries, 0 to 7377417\n",
      "Data columns (total 19 columns):\n",
      " #   Column                  Dtype         \n",
      "---  ------                  -----         \n",
      " 0   msno                    object        \n",
      " 1   song_id                 object        \n",
      " 2   source_system_tab       object        \n",
      " 3   source_screen_name      object        \n",
      " 4   source_type             object        \n",
      " 5   target                  int64         \n",
      " 6   song_length             float64       \n",
      " 7   genre_ids               object        \n",
      " 8   artist_name             object        \n",
      " 9   composer                object        \n",
      " 10  lyricist                object        \n",
      " 11  language                float64       \n",
      " 12  song_duration_minutes   float64       \n",
      " 13  city                    int64         \n",
      " 14  bd                      int64         \n",
      " 15  gender                  object        \n",
      " 16  registered_via          int64         \n",
      " 17  registration_init_time  datetime64[ns]\n",
      " 18  expiration_date         datetime64[ns]\n",
      "dtypes: datetime64[ns](2), float64(3), int64(4), object(10)\n",
      "memory usage: 1.1+ GB\n"
     ]
    }
   ],
   "source": [
    "df.info()"
   ]
  },
  {
   "cell_type": "code",
   "execution_count": 58,
   "id": "265dc7bb",
   "metadata": {},
   "outputs": [],
   "source": [
    "# Replace NA\n",
    "for i in df.select_dtypes(include=['object']).columns:\n",
    "    df[i][df[i].isnull()] = 'unknown'\n",
    "df = df.fillna(value=0)"
   ]
  },
  {
   "cell_type": "code",
   "execution_count": 59,
   "id": "13de6fba",
   "metadata": {},
   "outputs": [
    {
     "name": "stdout",
     "output_type": "stream",
     "text": [
      "<class 'pandas.core.frame.DataFrame'>\n",
      "Int64Index: 7377418 entries, 0 to 7377417\n",
      "Data columns (total 19 columns):\n",
      " #   Column                  Dtype         \n",
      "---  ------                  -----         \n",
      " 0   msno                    object        \n",
      " 1   song_id                 object        \n",
      " 2   source_system_tab       object        \n",
      " 3   source_screen_name      object        \n",
      " 4   source_type             object        \n",
      " 5   target                  int64         \n",
      " 6   song_length             float64       \n",
      " 7   genre_ids               object        \n",
      " 8   artist_name             object        \n",
      " 9   composer                object        \n",
      " 10  lyricist                object        \n",
      " 11  language                float64       \n",
      " 12  song_duration_minutes   float64       \n",
      " 13  city                    int64         \n",
      " 14  bd                      int64         \n",
      " 15  gender                  object        \n",
      " 16  registered_via          int64         \n",
      " 17  registration_init_time  datetime64[ns]\n",
      " 18  expiration_date         datetime64[ns]\n",
      "dtypes: datetime64[ns](2), float64(3), int64(4), object(10)\n",
      "memory usage: 1.1+ GB\n"
     ]
    }
   ],
   "source": [
    "df.info()"
   ]
  },
  {
   "cell_type": "code",
   "execution_count": 60,
   "id": "891edcd4",
   "metadata": {},
   "outputs": [],
   "source": [
    "# Create Dates\n",
    "\n",
    "# registration_init_time\n",
    "df.registration_init_time = pd.to_datetime(df.registration_init_time, format='%Y%m%d', errors='ignore')\n",
    "df['registration_init_time_year'] = df['registration_init_time'].dt.year\n",
    "df['registration_init_time_month'] = df['registration_init_time'].dt.month\n",
    "df['registration_init_time_day'] = df['registration_init_time'].dt.day\n",
    "\n",
    "# expiration_date\n",
    "df.expiration_date = pd.to_datetime(df.expiration_date,  format='%Y%m%d', errors='ignore')\n",
    "df['expiration_date_year'] = df['expiration_date'].dt.year\n",
    "df['expiration_date_month'] = df['expiration_date'].dt.month\n",
    "df['expiration_date_day'] = df['expiration_date'].dt.day"
   ]
  },
  {
   "cell_type": "code",
   "execution_count": 61,
   "id": "03173f85",
   "metadata": {},
   "outputs": [],
   "source": [
    "#Dates to categoty\n",
    "df['registration_init_time'] = df['registration_init_time'].astype('category')\n",
    "df['expiration_date'] = df['expiration_date'].astype('category')"
   ]
  },
  {
   "cell_type": "code",
   "execution_count": 62,
   "id": "1fd452d3",
   "metadata": {},
   "outputs": [],
   "source": [
    "# Object data to category\n",
    "for col in df.select_dtypes(include=['object']).columns:\n",
    "    df[col] = df[col].astype('category')\n",
    "    \n",
    "# Encoding categorical features\n",
    "for col in df.select_dtypes(include=['category']).columns:\n",
    "    df[col] = df[col].cat.codes"
   ]
  },
  {
   "cell_type": "code",
   "execution_count": 63,
   "id": "92b2361a",
   "metadata": {},
   "outputs": [
    {
     "data": {
      "text/html": [
       "<div>\n",
       "<style scoped>\n",
       "    .dataframe tbody tr th:only-of-type {\n",
       "        vertical-align: middle;\n",
       "    }\n",
       "\n",
       "    .dataframe tbody tr th {\n",
       "        vertical-align: top;\n",
       "    }\n",
       "\n",
       "    .dataframe thead th {\n",
       "        text-align: right;\n",
       "    }\n",
       "</style>\n",
       "<table border=\"1\" class=\"dataframe\">\n",
       "  <thead>\n",
       "    <tr style=\"text-align: right;\">\n",
       "      <th></th>\n",
       "      <th>msno</th>\n",
       "      <th>song_id</th>\n",
       "      <th>source_system_tab</th>\n",
       "      <th>source_screen_name</th>\n",
       "      <th>source_type</th>\n",
       "      <th>target</th>\n",
       "      <th>song_length</th>\n",
       "      <th>genre_ids</th>\n",
       "      <th>artist_name</th>\n",
       "      <th>composer</th>\n",
       "      <th>...</th>\n",
       "      <th>gender</th>\n",
       "      <th>registered_via</th>\n",
       "      <th>registration_init_time</th>\n",
       "      <th>expiration_date</th>\n",
       "      <th>registration_init_time_year</th>\n",
       "      <th>registration_init_time_month</th>\n",
       "      <th>registration_init_time_day</th>\n",
       "      <th>expiration_date_year</th>\n",
       "      <th>expiration_date_month</th>\n",
       "      <th>expiration_date_day</th>\n",
       "    </tr>\n",
       "  </thead>\n",
       "  <tbody>\n",
       "    <tr>\n",
       "      <th>msno</th>\n",
       "      <td>1.000000</td>\n",
       "      <td>-0.000329</td>\n",
       "      <td>0.010263</td>\n",
       "      <td>-0.005538</td>\n",
       "      <td>-0.002996</td>\n",
       "      <td>0.000982</td>\n",
       "      <td>0.002164</td>\n",
       "      <td>0.002086</td>\n",
       "      <td>0.003519</td>\n",
       "      <td>0.003298</td>\n",
       "      <td>...</td>\n",
       "      <td>-0.006538</td>\n",
       "      <td>-0.002070</td>\n",
       "      <td>0.005967</td>\n",
       "      <td>0.011462</td>\n",
       "      <td>0.005086</td>\n",
       "      <td>0.011426</td>\n",
       "      <td>0.010833</td>\n",
       "      <td>0.002961</td>\n",
       "      <td>0.009144</td>\n",
       "      <td>0.000588</td>\n",
       "    </tr>\n",
       "    <tr>\n",
       "      <th>song_id</th>\n",
       "      <td>-0.000329</td>\n",
       "      <td>1.000000</td>\n",
       "      <td>-0.003968</td>\n",
       "      <td>0.001907</td>\n",
       "      <td>0.005296</td>\n",
       "      <td>-0.003742</td>\n",
       "      <td>-0.010901</td>\n",
       "      <td>0.008826</td>\n",
       "      <td>-0.021232</td>\n",
       "      <td>-0.034085</td>\n",
       "      <td>...</td>\n",
       "      <td>0.001280</td>\n",
       "      <td>-0.001071</td>\n",
       "      <td>0.001005</td>\n",
       "      <td>-0.000988</td>\n",
       "      <td>0.001039</td>\n",
       "      <td>-0.000103</td>\n",
       "      <td>-0.000420</td>\n",
       "      <td>-0.000837</td>\n",
       "      <td>0.000213</td>\n",
       "      <td>-0.000457</td>\n",
       "    </tr>\n",
       "    <tr>\n",
       "      <th>source_system_tab</th>\n",
       "      <td>0.010263</td>\n",
       "      <td>-0.003968</td>\n",
       "      <td>1.000000</td>\n",
       "      <td>-0.031238</td>\n",
       "      <td>-0.078480</td>\n",
       "      <td>0.031262</td>\n",
       "      <td>0.024268</td>\n",
       "      <td>0.036398</td>\n",
       "      <td>0.034861</td>\n",
       "      <td>0.057091</td>\n",
       "      <td>...</td>\n",
       "      <td>-0.024790</td>\n",
       "      <td>0.034411</td>\n",
       "      <td>-0.042791</td>\n",
       "      <td>0.055985</td>\n",
       "      <td>-0.039057</td>\n",
       "      <td>-0.015178</td>\n",
       "      <td>0.006189</td>\n",
       "      <td>0.038289</td>\n",
       "      <td>0.012783</td>\n",
       "      <td>0.007627</td>\n",
       "    </tr>\n",
       "    <tr>\n",
       "      <th>source_screen_name</th>\n",
       "      <td>-0.005538</td>\n",
       "      <td>0.001907</td>\n",
       "      <td>-0.031238</td>\n",
       "      <td>1.000000</td>\n",
       "      <td>0.415032</td>\n",
       "      <td>-0.056982</td>\n",
       "      <td>0.025332</td>\n",
       "      <td>-0.018531</td>\n",
       "      <td>0.010365</td>\n",
       "      <td>0.020619</td>\n",
       "      <td>...</td>\n",
       "      <td>0.018144</td>\n",
       "      <td>-0.032334</td>\n",
       "      <td>0.038329</td>\n",
       "      <td>-0.034513</td>\n",
       "      <td>0.036891</td>\n",
       "      <td>0.004828</td>\n",
       "      <td>-0.003591</td>\n",
       "      <td>-0.024016</td>\n",
       "      <td>-0.007776</td>\n",
       "      <td>-0.000224</td>\n",
       "    </tr>\n",
       "    <tr>\n",
       "      <th>source_type</th>\n",
       "      <td>-0.002996</td>\n",
       "      <td>0.005296</td>\n",
       "      <td>-0.078480</td>\n",
       "      <td>0.415032</td>\n",
       "      <td>1.000000</td>\n",
       "      <td>-0.124970</td>\n",
       "      <td>0.016496</td>\n",
       "      <td>-0.051539</td>\n",
       "      <td>-0.020126</td>\n",
       "      <td>-0.001341</td>\n",
       "      <td>...</td>\n",
       "      <td>0.023362</td>\n",
       "      <td>-0.025612</td>\n",
       "      <td>0.033412</td>\n",
       "      <td>-0.044805</td>\n",
       "      <td>0.031518</td>\n",
       "      <td>0.006498</td>\n",
       "      <td>0.001127</td>\n",
       "      <td>-0.036947</td>\n",
       "      <td>0.000260</td>\n",
       "      <td>-0.005091</td>\n",
       "    </tr>\n",
       "    <tr>\n",
       "      <th>target</th>\n",
       "      <td>0.000982</td>\n",
       "      <td>-0.003742</td>\n",
       "      <td>0.031262</td>\n",
       "      <td>-0.056982</td>\n",
       "      <td>-0.124970</td>\n",
       "      <td>1.000000</td>\n",
       "      <td>-0.001798</td>\n",
       "      <td>0.016411</td>\n",
       "      <td>0.012533</td>\n",
       "      <td>-0.001432</td>\n",
       "      <td>...</td>\n",
       "      <td>-0.013503</td>\n",
       "      <td>0.009893</td>\n",
       "      <td>-0.002825</td>\n",
       "      <td>0.059313</td>\n",
       "      <td>-0.001962</td>\n",
       "      <td>-0.005573</td>\n",
       "      <td>-0.001765</td>\n",
       "      <td>0.042248</td>\n",
       "      <td>0.011817</td>\n",
       "      <td>0.001923</td>\n",
       "    </tr>\n",
       "    <tr>\n",
       "      <th>song_length</th>\n",
       "      <td>0.002164</td>\n",
       "      <td>-0.010901</td>\n",
       "      <td>0.024268</td>\n",
       "      <td>0.025332</td>\n",
       "      <td>0.016496</td>\n",
       "      <td>-0.001798</td>\n",
       "      <td>1.000000</td>\n",
       "      <td>0.027015</td>\n",
       "      <td>0.113020</td>\n",
       "      <td>0.096611</td>\n",
       "      <td>...</td>\n",
       "      <td>0.003615</td>\n",
       "      <td>0.002749</td>\n",
       "      <td>-0.007259</td>\n",
       "      <td>0.006650</td>\n",
       "      <td>-0.007433</td>\n",
       "      <td>0.001509</td>\n",
       "      <td>-0.000004</td>\n",
       "      <td>0.004569</td>\n",
       "      <td>0.001314</td>\n",
       "      <td>0.000390</td>\n",
       "    </tr>\n",
       "    <tr>\n",
       "      <th>genre_ids</th>\n",
       "      <td>0.002086</td>\n",
       "      <td>0.008826</td>\n",
       "      <td>0.036398</td>\n",
       "      <td>-0.018531</td>\n",
       "      <td>-0.051539</td>\n",
       "      <td>0.016411</td>\n",
       "      <td>0.027015</td>\n",
       "      <td>1.000000</td>\n",
       "      <td>0.198331</td>\n",
       "      <td>0.147660</td>\n",
       "      <td>...</td>\n",
       "      <td>-0.005538</td>\n",
       "      <td>0.005106</td>\n",
       "      <td>-0.003082</td>\n",
       "      <td>0.005362</td>\n",
       "      <td>-0.003752</td>\n",
       "      <td>0.002988</td>\n",
       "      <td>0.001261</td>\n",
       "      <td>0.005717</td>\n",
       "      <td>-0.004083</td>\n",
       "      <td>0.002000</td>\n",
       "    </tr>\n",
       "    <tr>\n",
       "      <th>artist_name</th>\n",
       "      <td>0.003519</td>\n",
       "      <td>-0.021232</td>\n",
       "      <td>0.034861</td>\n",
       "      <td>0.010365</td>\n",
       "      <td>-0.020126</td>\n",
       "      <td>0.012533</td>\n",
       "      <td>0.113020</td>\n",
       "      <td>0.198331</td>\n",
       "      <td>1.000000</td>\n",
       "      <td>0.329520</td>\n",
       "      <td>...</td>\n",
       "      <td>-0.001343</td>\n",
       "      <td>0.000658</td>\n",
       "      <td>-0.007486</td>\n",
       "      <td>0.008968</td>\n",
       "      <td>-0.007973</td>\n",
       "      <td>0.004485</td>\n",
       "      <td>-0.000558</td>\n",
       "      <td>0.005703</td>\n",
       "      <td>0.002256</td>\n",
       "      <td>0.001806</td>\n",
       "    </tr>\n",
       "    <tr>\n",
       "      <th>composer</th>\n",
       "      <td>0.003298</td>\n",
       "      <td>-0.034085</td>\n",
       "      <td>0.057091</td>\n",
       "      <td>0.020619</td>\n",
       "      <td>-0.001341</td>\n",
       "      <td>-0.001432</td>\n",
       "      <td>0.096611</td>\n",
       "      <td>0.147660</td>\n",
       "      <td>0.329520</td>\n",
       "      <td>1.000000</td>\n",
       "      <td>...</td>\n",
       "      <td>-0.002259</td>\n",
       "      <td>0.001337</td>\n",
       "      <td>-0.005382</td>\n",
       "      <td>0.007175</td>\n",
       "      <td>-0.005804</td>\n",
       "      <td>0.004281</td>\n",
       "      <td>-0.001124</td>\n",
       "      <td>0.004540</td>\n",
       "      <td>0.002620</td>\n",
       "      <td>-0.000277</td>\n",
       "    </tr>\n",
       "    <tr>\n",
       "      <th>lyricist</th>\n",
       "      <td>0.002016</td>\n",
       "      <td>-0.031526</td>\n",
       "      <td>0.047855</td>\n",
       "      <td>0.010446</td>\n",
       "      <td>-0.012723</td>\n",
       "      <td>-0.001271</td>\n",
       "      <td>0.081708</td>\n",
       "      <td>0.115928</td>\n",
       "      <td>0.289966</td>\n",
       "      <td>0.608168</td>\n",
       "      <td>...</td>\n",
       "      <td>-0.002163</td>\n",
       "      <td>0.000961</td>\n",
       "      <td>-0.006155</td>\n",
       "      <td>0.008822</td>\n",
       "      <td>-0.006235</td>\n",
       "      <td>0.002065</td>\n",
       "      <td>-0.000642</td>\n",
       "      <td>0.006775</td>\n",
       "      <td>0.001200</td>\n",
       "      <td>0.000018</td>\n",
       "    </tr>\n",
       "    <tr>\n",
       "      <th>language</th>\n",
       "      <td>-0.006468</td>\n",
       "      <td>0.011742</td>\n",
       "      <td>-0.056703</td>\n",
       "      <td>-0.024166</td>\n",
       "      <td>0.013376</td>\n",
       "      <td>-0.027536</td>\n",
       "      <td>-0.210364</td>\n",
       "      <td>-0.304660</td>\n",
       "      <td>-0.572467</td>\n",
       "      <td>-0.371796</td>\n",
       "      <td>...</td>\n",
       "      <td>0.007406</td>\n",
       "      <td>-0.000232</td>\n",
       "      <td>0.008030</td>\n",
       "      <td>-0.006747</td>\n",
       "      <td>0.009072</td>\n",
       "      <td>-0.006916</td>\n",
       "      <td>0.001511</td>\n",
       "      <td>-0.003990</td>\n",
       "      <td>-0.001253</td>\n",
       "      <td>-0.000452</td>\n",
       "    </tr>\n",
       "    <tr>\n",
       "      <th>song_duration_minutes</th>\n",
       "      <td>0.002446</td>\n",
       "      <td>-0.016149</td>\n",
       "      <td>0.024639</td>\n",
       "      <td>0.026714</td>\n",
       "      <td>0.017686</td>\n",
       "      <td>0.000388</td>\n",
       "      <td>0.886033</td>\n",
       "      <td>0.030701</td>\n",
       "      <td>0.116096</td>\n",
       "      <td>0.105081</td>\n",
       "      <td>...</td>\n",
       "      <td>0.003865</td>\n",
       "      <td>0.002278</td>\n",
       "      <td>-0.007397</td>\n",
       "      <td>0.005951</td>\n",
       "      <td>-0.007561</td>\n",
       "      <td>0.001499</td>\n",
       "      <td>-0.000202</td>\n",
       "      <td>0.003898</td>\n",
       "      <td>0.001625</td>\n",
       "      <td>-0.000108</td>\n",
       "    </tr>\n",
       "    <tr>\n",
       "      <th>city</th>\n",
       "      <td>0.011937</td>\n",
       "      <td>-0.000826</td>\n",
       "      <td>0.022347</td>\n",
       "      <td>-0.017972</td>\n",
       "      <td>-0.023935</td>\n",
       "      <td>0.012114</td>\n",
       "      <td>0.005189</td>\n",
       "      <td>-0.003367</td>\n",
       "      <td>0.017820</td>\n",
       "      <td>0.009786</td>\n",
       "      <td>...</td>\n",
       "      <td>-0.521208</td>\n",
       "      <td>0.073756</td>\n",
       "      <td>-0.286821</td>\n",
       "      <td>0.179526</td>\n",
       "      <td>-0.280175</td>\n",
       "      <td>-0.033314</td>\n",
       "      <td>0.007842</td>\n",
       "      <td>0.150147</td>\n",
       "      <td>-0.024833</td>\n",
       "      <td>0.004892</td>\n",
       "    </tr>\n",
       "    <tr>\n",
       "      <th>bd</th>\n",
       "      <td>-0.002405</td>\n",
       "      <td>-0.000855</td>\n",
       "      <td>0.023953</td>\n",
       "      <td>-0.013887</td>\n",
       "      <td>-0.004254</td>\n",
       "      <td>-0.000500</td>\n",
       "      <td>0.004893</td>\n",
       "      <td>0.002924</td>\n",
       "      <td>0.009319</td>\n",
       "      <td>0.007102</td>\n",
       "      <td>...</td>\n",
       "      <td>-0.544474</td>\n",
       "      <td>0.098428</td>\n",
       "      <td>-0.327515</td>\n",
       "      <td>0.141674</td>\n",
       "      <td>-0.324339</td>\n",
       "      <td>-0.009452</td>\n",
       "      <td>0.000153</td>\n",
       "      <td>0.117599</td>\n",
       "      <td>-0.017310</td>\n",
       "      <td>0.034233</td>\n",
       "    </tr>\n",
       "    <tr>\n",
       "      <th>gender</th>\n",
       "      <td>-0.006538</td>\n",
       "      <td>0.001280</td>\n",
       "      <td>-0.024790</td>\n",
       "      <td>0.018144</td>\n",
       "      <td>0.023362</td>\n",
       "      <td>-0.013503</td>\n",
       "      <td>0.003615</td>\n",
       "      <td>-0.005538</td>\n",
       "      <td>-0.001343</td>\n",
       "      <td>-0.002259</td>\n",
       "      <td>...</td>\n",
       "      <td>1.000000</td>\n",
       "      <td>-0.076230</td>\n",
       "      <td>0.361342</td>\n",
       "      <td>-0.156661</td>\n",
       "      <td>0.357628</td>\n",
       "      <td>0.016751</td>\n",
       "      <td>-0.014029</td>\n",
       "      <td>-0.140861</td>\n",
       "      <td>0.045463</td>\n",
       "      <td>-0.019670</td>\n",
       "    </tr>\n",
       "    <tr>\n",
       "      <th>registered_via</th>\n",
       "      <td>-0.002070</td>\n",
       "      <td>-0.001071</td>\n",
       "      <td>0.034411</td>\n",
       "      <td>-0.032334</td>\n",
       "      <td>-0.025612</td>\n",
       "      <td>0.009893</td>\n",
       "      <td>0.002749</td>\n",
       "      <td>0.005106</td>\n",
       "      <td>0.000658</td>\n",
       "      <td>0.001337</td>\n",
       "      <td>...</td>\n",
       "      <td>-0.076230</td>\n",
       "      <td>1.000000</td>\n",
       "      <td>-0.438918</td>\n",
       "      <td>0.158116</td>\n",
       "      <td>-0.442730</td>\n",
       "      <td>-0.017697</td>\n",
       "      <td>0.025543</td>\n",
       "      <td>0.084135</td>\n",
       "      <td>0.064732</td>\n",
       "      <td>0.056956</td>\n",
       "    </tr>\n",
       "    <tr>\n",
       "      <th>registration_init_time</th>\n",
       "      <td>0.005967</td>\n",
       "      <td>0.001005</td>\n",
       "      <td>-0.042791</td>\n",
       "      <td>0.038329</td>\n",
       "      <td>0.033412</td>\n",
       "      <td>-0.002825</td>\n",
       "      <td>-0.007259</td>\n",
       "      <td>-0.003082</td>\n",
       "      <td>-0.007486</td>\n",
       "      <td>-0.005382</td>\n",
       "      <td>...</td>\n",
       "      <td>0.361342</td>\n",
       "      <td>-0.438918</td>\n",
       "      <td>1.000000</td>\n",
       "      <td>-0.180495</td>\n",
       "      <td>0.992516</td>\n",
       "      <td>0.055915</td>\n",
       "      <td>-0.034315</td>\n",
       "      <td>-0.101164</td>\n",
       "      <td>-0.052956</td>\n",
       "      <td>-0.075601</td>\n",
       "    </tr>\n",
       "    <tr>\n",
       "      <th>expiration_date</th>\n",
       "      <td>0.011462</td>\n",
       "      <td>-0.000988</td>\n",
       "      <td>0.055985</td>\n",
       "      <td>-0.034513</td>\n",
       "      <td>-0.044805</td>\n",
       "      <td>0.059313</td>\n",
       "      <td>0.006650</td>\n",
       "      <td>0.005362</td>\n",
       "      <td>0.008968</td>\n",
       "      <td>0.007175</td>\n",
       "      <td>...</td>\n",
       "      <td>-0.156661</td>\n",
       "      <td>0.158116</td>\n",
       "      <td>-0.180495</td>\n",
       "      <td>1.000000</td>\n",
       "      <td>-0.172539</td>\n",
       "      <td>-0.023262</td>\n",
       "      <td>-0.000452</td>\n",
       "      <td>0.796349</td>\n",
       "      <td>0.064691</td>\n",
       "      <td>0.022186</td>\n",
       "    </tr>\n",
       "    <tr>\n",
       "      <th>registration_init_time_year</th>\n",
       "      <td>0.005086</td>\n",
       "      <td>0.001039</td>\n",
       "      <td>-0.039057</td>\n",
       "      <td>0.036891</td>\n",
       "      <td>0.031518</td>\n",
       "      <td>-0.001962</td>\n",
       "      <td>-0.007433</td>\n",
       "      <td>-0.003752</td>\n",
       "      <td>-0.007973</td>\n",
       "      <td>-0.005804</td>\n",
       "      <td>...</td>\n",
       "      <td>0.357628</td>\n",
       "      <td>-0.442730</td>\n",
       "      <td>0.992516</td>\n",
       "      <td>-0.172539</td>\n",
       "      <td>1.000000</td>\n",
       "      <td>-0.047701</td>\n",
       "      <td>-0.047175</td>\n",
       "      <td>-0.092018</td>\n",
       "      <td>-0.057629</td>\n",
       "      <td>-0.078462</td>\n",
       "    </tr>\n",
       "    <tr>\n",
       "      <th>registration_init_time_month</th>\n",
       "      <td>0.011426</td>\n",
       "      <td>-0.000103</td>\n",
       "      <td>-0.015178</td>\n",
       "      <td>0.004828</td>\n",
       "      <td>0.006498</td>\n",
       "      <td>-0.005573</td>\n",
       "      <td>0.001509</td>\n",
       "      <td>0.002988</td>\n",
       "      <td>0.004485</td>\n",
       "      <td>0.004281</td>\n",
       "      <td>...</td>\n",
       "      <td>0.016751</td>\n",
       "      <td>-0.017697</td>\n",
       "      <td>0.055915</td>\n",
       "      <td>-0.023262</td>\n",
       "      <td>-0.047701</td>\n",
       "      <td>1.000000</td>\n",
       "      <td>0.044437</td>\n",
       "      <td>-0.047909</td>\n",
       "      <td>0.056911</td>\n",
       "      <td>-0.006693</td>\n",
       "    </tr>\n",
       "    <tr>\n",
       "      <th>registration_init_time_day</th>\n",
       "      <td>0.010833</td>\n",
       "      <td>-0.000420</td>\n",
       "      <td>0.006189</td>\n",
       "      <td>-0.003591</td>\n",
       "      <td>0.001127</td>\n",
       "      <td>-0.001765</td>\n",
       "      <td>-0.000004</td>\n",
       "      <td>0.001261</td>\n",
       "      <td>-0.000558</td>\n",
       "      <td>-0.001124</td>\n",
       "      <td>...</td>\n",
       "      <td>-0.014029</td>\n",
       "      <td>0.025543</td>\n",
       "      <td>-0.034315</td>\n",
       "      <td>-0.000452</td>\n",
       "      <td>-0.047175</td>\n",
       "      <td>0.044437</td>\n",
       "      <td>1.000000</td>\n",
       "      <td>-0.002089</td>\n",
       "      <td>-0.013526</td>\n",
       "      <td>0.149351</td>\n",
       "    </tr>\n",
       "    <tr>\n",
       "      <th>expiration_date_year</th>\n",
       "      <td>0.002961</td>\n",
       "      <td>-0.000837</td>\n",
       "      <td>0.038289</td>\n",
       "      <td>-0.024016</td>\n",
       "      <td>-0.036947</td>\n",
       "      <td>0.042248</td>\n",
       "      <td>0.004569</td>\n",
       "      <td>0.005717</td>\n",
       "      <td>0.005703</td>\n",
       "      <td>0.004540</td>\n",
       "      <td>...</td>\n",
       "      <td>-0.140861</td>\n",
       "      <td>0.084135</td>\n",
       "      <td>-0.101164</td>\n",
       "      <td>0.796349</td>\n",
       "      <td>-0.092018</td>\n",
       "      <td>-0.047909</td>\n",
       "      <td>-0.002089</td>\n",
       "      <td>1.000000</td>\n",
       "      <td>-0.472842</td>\n",
       "      <td>-0.030104</td>\n",
       "    </tr>\n",
       "    <tr>\n",
       "      <th>expiration_date_month</th>\n",
       "      <td>0.009144</td>\n",
       "      <td>0.000213</td>\n",
       "      <td>0.012783</td>\n",
       "      <td>-0.007776</td>\n",
       "      <td>0.000260</td>\n",
       "      <td>0.011817</td>\n",
       "      <td>0.001314</td>\n",
       "      <td>-0.004083</td>\n",
       "      <td>0.002256</td>\n",
       "      <td>0.002620</td>\n",
       "      <td>...</td>\n",
       "      <td>0.045463</td>\n",
       "      <td>0.064732</td>\n",
       "      <td>-0.052956</td>\n",
       "      <td>0.064691</td>\n",
       "      <td>-0.057629</td>\n",
       "      <td>0.056911</td>\n",
       "      <td>-0.013526</td>\n",
       "      <td>-0.472842</td>\n",
       "      <td>1.000000</td>\n",
       "      <td>-0.029495</td>\n",
       "    </tr>\n",
       "    <tr>\n",
       "      <th>expiration_date_day</th>\n",
       "      <td>0.000588</td>\n",
       "      <td>-0.000457</td>\n",
       "      <td>0.007627</td>\n",
       "      <td>-0.000224</td>\n",
       "      <td>-0.005091</td>\n",
       "      <td>0.001923</td>\n",
       "      <td>0.000390</td>\n",
       "      <td>0.002000</td>\n",
       "      <td>0.001806</td>\n",
       "      <td>-0.000277</td>\n",
       "      <td>...</td>\n",
       "      <td>-0.019670</td>\n",
       "      <td>0.056956</td>\n",
       "      <td>-0.075601</td>\n",
       "      <td>0.022186</td>\n",
       "      <td>-0.078462</td>\n",
       "      <td>-0.006693</td>\n",
       "      <td>0.149351</td>\n",
       "      <td>-0.030104</td>\n",
       "      <td>-0.029495</td>\n",
       "      <td>1.000000</td>\n",
       "    </tr>\n",
       "  </tbody>\n",
       "</table>\n",
       "<p>25 rows × 25 columns</p>\n",
       "</div>"
      ],
      "text/plain": [
       "                                  msno   song_id  source_system_tab  \\\n",
       "msno                          1.000000 -0.000329           0.010263   \n",
       "song_id                      -0.000329  1.000000          -0.003968   \n",
       "source_system_tab             0.010263 -0.003968           1.000000   \n",
       "source_screen_name           -0.005538  0.001907          -0.031238   \n",
       "source_type                  -0.002996  0.005296          -0.078480   \n",
       "target                        0.000982 -0.003742           0.031262   \n",
       "song_length                   0.002164 -0.010901           0.024268   \n",
       "genre_ids                     0.002086  0.008826           0.036398   \n",
       "artist_name                   0.003519 -0.021232           0.034861   \n",
       "composer                      0.003298 -0.034085           0.057091   \n",
       "lyricist                      0.002016 -0.031526           0.047855   \n",
       "language                     -0.006468  0.011742          -0.056703   \n",
       "song_duration_minutes         0.002446 -0.016149           0.024639   \n",
       "city                          0.011937 -0.000826           0.022347   \n",
       "bd                           -0.002405 -0.000855           0.023953   \n",
       "gender                       -0.006538  0.001280          -0.024790   \n",
       "registered_via               -0.002070 -0.001071           0.034411   \n",
       "registration_init_time        0.005967  0.001005          -0.042791   \n",
       "expiration_date               0.011462 -0.000988           0.055985   \n",
       "registration_init_time_year   0.005086  0.001039          -0.039057   \n",
       "registration_init_time_month  0.011426 -0.000103          -0.015178   \n",
       "registration_init_time_day    0.010833 -0.000420           0.006189   \n",
       "expiration_date_year          0.002961 -0.000837           0.038289   \n",
       "expiration_date_month         0.009144  0.000213           0.012783   \n",
       "expiration_date_day           0.000588 -0.000457           0.007627   \n",
       "\n",
       "                              source_screen_name  source_type    target  \\\n",
       "msno                                   -0.005538    -0.002996  0.000982   \n",
       "song_id                                 0.001907     0.005296 -0.003742   \n",
       "source_system_tab                      -0.031238    -0.078480  0.031262   \n",
       "source_screen_name                      1.000000     0.415032 -0.056982   \n",
       "source_type                             0.415032     1.000000 -0.124970   \n",
       "target                                 -0.056982    -0.124970  1.000000   \n",
       "song_length                             0.025332     0.016496 -0.001798   \n",
       "genre_ids                              -0.018531    -0.051539  0.016411   \n",
       "artist_name                             0.010365    -0.020126  0.012533   \n",
       "composer                                0.020619    -0.001341 -0.001432   \n",
       "lyricist                                0.010446    -0.012723 -0.001271   \n",
       "language                               -0.024166     0.013376 -0.027536   \n",
       "song_duration_minutes                   0.026714     0.017686  0.000388   \n",
       "city                                   -0.017972    -0.023935  0.012114   \n",
       "bd                                     -0.013887    -0.004254 -0.000500   \n",
       "gender                                  0.018144     0.023362 -0.013503   \n",
       "registered_via                         -0.032334    -0.025612  0.009893   \n",
       "registration_init_time                  0.038329     0.033412 -0.002825   \n",
       "expiration_date                        -0.034513    -0.044805  0.059313   \n",
       "registration_init_time_year             0.036891     0.031518 -0.001962   \n",
       "registration_init_time_month            0.004828     0.006498 -0.005573   \n",
       "registration_init_time_day             -0.003591     0.001127 -0.001765   \n",
       "expiration_date_year                   -0.024016    -0.036947  0.042248   \n",
       "expiration_date_month                  -0.007776     0.000260  0.011817   \n",
       "expiration_date_day                    -0.000224    -0.005091  0.001923   \n",
       "\n",
       "                              song_length  genre_ids  artist_name  composer  \\\n",
       "msno                             0.002164   0.002086     0.003519  0.003298   \n",
       "song_id                         -0.010901   0.008826    -0.021232 -0.034085   \n",
       "source_system_tab                0.024268   0.036398     0.034861  0.057091   \n",
       "source_screen_name               0.025332  -0.018531     0.010365  0.020619   \n",
       "source_type                      0.016496  -0.051539    -0.020126 -0.001341   \n",
       "target                          -0.001798   0.016411     0.012533 -0.001432   \n",
       "song_length                      1.000000   0.027015     0.113020  0.096611   \n",
       "genre_ids                        0.027015   1.000000     0.198331  0.147660   \n",
       "artist_name                      0.113020   0.198331     1.000000  0.329520   \n",
       "composer                         0.096611   0.147660     0.329520  1.000000   \n",
       "lyricist                         0.081708   0.115928     0.289966  0.608168   \n",
       "language                        -0.210364  -0.304660    -0.572467 -0.371796   \n",
       "song_duration_minutes            0.886033   0.030701     0.116096  0.105081   \n",
       "city                             0.005189  -0.003367     0.017820  0.009786   \n",
       "bd                               0.004893   0.002924     0.009319  0.007102   \n",
       "gender                           0.003615  -0.005538    -0.001343 -0.002259   \n",
       "registered_via                   0.002749   0.005106     0.000658  0.001337   \n",
       "registration_init_time          -0.007259  -0.003082    -0.007486 -0.005382   \n",
       "expiration_date                  0.006650   0.005362     0.008968  0.007175   \n",
       "registration_init_time_year     -0.007433  -0.003752    -0.007973 -0.005804   \n",
       "registration_init_time_month     0.001509   0.002988     0.004485  0.004281   \n",
       "registration_init_time_day      -0.000004   0.001261    -0.000558 -0.001124   \n",
       "expiration_date_year             0.004569   0.005717     0.005703  0.004540   \n",
       "expiration_date_month            0.001314  -0.004083     0.002256  0.002620   \n",
       "expiration_date_day              0.000390   0.002000     0.001806 -0.000277   \n",
       "\n",
       "                              ...    gender  registered_via  \\\n",
       "msno                          ... -0.006538       -0.002070   \n",
       "song_id                       ...  0.001280       -0.001071   \n",
       "source_system_tab             ... -0.024790        0.034411   \n",
       "source_screen_name            ...  0.018144       -0.032334   \n",
       "source_type                   ...  0.023362       -0.025612   \n",
       "target                        ... -0.013503        0.009893   \n",
       "song_length                   ...  0.003615        0.002749   \n",
       "genre_ids                     ... -0.005538        0.005106   \n",
       "artist_name                   ... -0.001343        0.000658   \n",
       "composer                      ... -0.002259        0.001337   \n",
       "lyricist                      ... -0.002163        0.000961   \n",
       "language                      ...  0.007406       -0.000232   \n",
       "song_duration_minutes         ...  0.003865        0.002278   \n",
       "city                          ... -0.521208        0.073756   \n",
       "bd                            ... -0.544474        0.098428   \n",
       "gender                        ...  1.000000       -0.076230   \n",
       "registered_via                ... -0.076230        1.000000   \n",
       "registration_init_time        ...  0.361342       -0.438918   \n",
       "expiration_date               ... -0.156661        0.158116   \n",
       "registration_init_time_year   ...  0.357628       -0.442730   \n",
       "registration_init_time_month  ...  0.016751       -0.017697   \n",
       "registration_init_time_day    ... -0.014029        0.025543   \n",
       "expiration_date_year          ... -0.140861        0.084135   \n",
       "expiration_date_month         ...  0.045463        0.064732   \n",
       "expiration_date_day           ... -0.019670        0.056956   \n",
       "\n",
       "                              registration_init_time  expiration_date  \\\n",
       "msno                                        0.005967         0.011462   \n",
       "song_id                                     0.001005        -0.000988   \n",
       "source_system_tab                          -0.042791         0.055985   \n",
       "source_screen_name                          0.038329        -0.034513   \n",
       "source_type                                 0.033412        -0.044805   \n",
       "target                                     -0.002825         0.059313   \n",
       "song_length                                -0.007259         0.006650   \n",
       "genre_ids                                  -0.003082         0.005362   \n",
       "artist_name                                -0.007486         0.008968   \n",
       "composer                                   -0.005382         0.007175   \n",
       "lyricist                                   -0.006155         0.008822   \n",
       "language                                    0.008030        -0.006747   \n",
       "song_duration_minutes                      -0.007397         0.005951   \n",
       "city                                       -0.286821         0.179526   \n",
       "bd                                         -0.327515         0.141674   \n",
       "gender                                      0.361342        -0.156661   \n",
       "registered_via                             -0.438918         0.158116   \n",
       "registration_init_time                      1.000000        -0.180495   \n",
       "expiration_date                            -0.180495         1.000000   \n",
       "registration_init_time_year                 0.992516        -0.172539   \n",
       "registration_init_time_month                0.055915        -0.023262   \n",
       "registration_init_time_day                 -0.034315        -0.000452   \n",
       "expiration_date_year                       -0.101164         0.796349   \n",
       "expiration_date_month                      -0.052956         0.064691   \n",
       "expiration_date_day                        -0.075601         0.022186   \n",
       "\n",
       "                              registration_init_time_year  \\\n",
       "msno                                             0.005086   \n",
       "song_id                                          0.001039   \n",
       "source_system_tab                               -0.039057   \n",
       "source_screen_name                               0.036891   \n",
       "source_type                                      0.031518   \n",
       "target                                          -0.001962   \n",
       "song_length                                     -0.007433   \n",
       "genre_ids                                       -0.003752   \n",
       "artist_name                                     -0.007973   \n",
       "composer                                        -0.005804   \n",
       "lyricist                                        -0.006235   \n",
       "language                                         0.009072   \n",
       "song_duration_minutes                           -0.007561   \n",
       "city                                            -0.280175   \n",
       "bd                                              -0.324339   \n",
       "gender                                           0.357628   \n",
       "registered_via                                  -0.442730   \n",
       "registration_init_time                           0.992516   \n",
       "expiration_date                                 -0.172539   \n",
       "registration_init_time_year                      1.000000   \n",
       "registration_init_time_month                    -0.047701   \n",
       "registration_init_time_day                      -0.047175   \n",
       "expiration_date_year                            -0.092018   \n",
       "expiration_date_month                           -0.057629   \n",
       "expiration_date_day                             -0.078462   \n",
       "\n",
       "                              registration_init_time_month  \\\n",
       "msno                                              0.011426   \n",
       "song_id                                          -0.000103   \n",
       "source_system_tab                                -0.015178   \n",
       "source_screen_name                                0.004828   \n",
       "source_type                                       0.006498   \n",
       "target                                           -0.005573   \n",
       "song_length                                       0.001509   \n",
       "genre_ids                                         0.002988   \n",
       "artist_name                                       0.004485   \n",
       "composer                                          0.004281   \n",
       "lyricist                                          0.002065   \n",
       "language                                         -0.006916   \n",
       "song_duration_minutes                             0.001499   \n",
       "city                                             -0.033314   \n",
       "bd                                               -0.009452   \n",
       "gender                                            0.016751   \n",
       "registered_via                                   -0.017697   \n",
       "registration_init_time                            0.055915   \n",
       "expiration_date                                  -0.023262   \n",
       "registration_init_time_year                      -0.047701   \n",
       "registration_init_time_month                      1.000000   \n",
       "registration_init_time_day                        0.044437   \n",
       "expiration_date_year                             -0.047909   \n",
       "expiration_date_month                             0.056911   \n",
       "expiration_date_day                              -0.006693   \n",
       "\n",
       "                              registration_init_time_day  \\\n",
       "msno                                            0.010833   \n",
       "song_id                                        -0.000420   \n",
       "source_system_tab                               0.006189   \n",
       "source_screen_name                             -0.003591   \n",
       "source_type                                     0.001127   \n",
       "target                                         -0.001765   \n",
       "song_length                                    -0.000004   \n",
       "genre_ids                                       0.001261   \n",
       "artist_name                                    -0.000558   \n",
       "composer                                       -0.001124   \n",
       "lyricist                                       -0.000642   \n",
       "language                                        0.001511   \n",
       "song_duration_minutes                          -0.000202   \n",
       "city                                            0.007842   \n",
       "bd                                              0.000153   \n",
       "gender                                         -0.014029   \n",
       "registered_via                                  0.025543   \n",
       "registration_init_time                         -0.034315   \n",
       "expiration_date                                -0.000452   \n",
       "registration_init_time_year                    -0.047175   \n",
       "registration_init_time_month                    0.044437   \n",
       "registration_init_time_day                      1.000000   \n",
       "expiration_date_year                           -0.002089   \n",
       "expiration_date_month                          -0.013526   \n",
       "expiration_date_day                             0.149351   \n",
       "\n",
       "                              expiration_date_year  expiration_date_month  \\\n",
       "msno                                      0.002961               0.009144   \n",
       "song_id                                  -0.000837               0.000213   \n",
       "source_system_tab                         0.038289               0.012783   \n",
       "source_screen_name                       -0.024016              -0.007776   \n",
       "source_type                              -0.036947               0.000260   \n",
       "target                                    0.042248               0.011817   \n",
       "song_length                               0.004569               0.001314   \n",
       "genre_ids                                 0.005717              -0.004083   \n",
       "artist_name                               0.005703               0.002256   \n",
       "composer                                  0.004540               0.002620   \n",
       "lyricist                                  0.006775               0.001200   \n",
       "language                                 -0.003990              -0.001253   \n",
       "song_duration_minutes                     0.003898               0.001625   \n",
       "city                                      0.150147              -0.024833   \n",
       "bd                                        0.117599              -0.017310   \n",
       "gender                                   -0.140861               0.045463   \n",
       "registered_via                            0.084135               0.064732   \n",
       "registration_init_time                   -0.101164              -0.052956   \n",
       "expiration_date                           0.796349               0.064691   \n",
       "registration_init_time_year              -0.092018              -0.057629   \n",
       "registration_init_time_month             -0.047909               0.056911   \n",
       "registration_init_time_day               -0.002089              -0.013526   \n",
       "expiration_date_year                      1.000000              -0.472842   \n",
       "expiration_date_month                    -0.472842               1.000000   \n",
       "expiration_date_day                      -0.030104              -0.029495   \n",
       "\n",
       "                              expiration_date_day  \n",
       "msno                                     0.000588  \n",
       "song_id                                 -0.000457  \n",
       "source_system_tab                        0.007627  \n",
       "source_screen_name                      -0.000224  \n",
       "source_type                             -0.005091  \n",
       "target                                   0.001923  \n",
       "song_length                              0.000390  \n",
       "genre_ids                                0.002000  \n",
       "artist_name                              0.001806  \n",
       "composer                                -0.000277  \n",
       "lyricist                                 0.000018  \n",
       "language                                -0.000452  \n",
       "song_duration_minutes                   -0.000108  \n",
       "city                                     0.004892  \n",
       "bd                                       0.034233  \n",
       "gender                                  -0.019670  \n",
       "registered_via                           0.056956  \n",
       "registration_init_time                  -0.075601  \n",
       "expiration_date                          0.022186  \n",
       "registration_init_time_year             -0.078462  \n",
       "registration_init_time_month            -0.006693  \n",
       "registration_init_time_day               0.149351  \n",
       "expiration_date_year                    -0.030104  \n",
       "expiration_date_month                   -0.029495  \n",
       "expiration_date_day                      1.000000  \n",
       "\n",
       "[25 rows x 25 columns]"
      ]
     },
     "execution_count": 63,
     "metadata": {},
     "output_type": "execute_result"
    }
   ],
   "source": [
    "df.corr()"
   ]
  },
  {
   "cell_type": "code",
   "execution_count": 64,
   "id": "c855d5cc",
   "metadata": {},
   "outputs": [
    {
     "data": {
      "image/png": "[encoded data removed]",
      "text/plain": [
       "<Figure size 504x360 with 2 Axes>"
      ]
     },
     "metadata": {},
     "output_type": "display_data"
    }
   ],
   "source": [
    "plt.figure(figsize=[7,5])\n",
    "sns.heatmap(df.corr())\n",
    "plt.show()"
   ]
  },
  {
   "cell_type": "markdown",
   "id": "e53bcf48",
   "metadata": {},
   "source": [
    "# RandomForest"
   ]
  },
  {
   "cell_type": "code",
   "execution_count": null,
   "id": "e1c32d2e",
   "metadata": {},
   "outputs": [],
   "source": [
    "# Model with the best estimator\n",
    "model = ensemble.RandomForestClassifier(n_estimators=250, max_depth=25)\n",
    "model.fit(df[df.columns[df.columns != 'target']], df.target)"
   ]
  },
  {
   "cell_type": "code",
   "execution_count": null,
   "id": "a4599d00",
   "metadata": {},
   "outputs": [],
   "source": [
    "df_plot = pd.DataFrame({'features': df.columns[df.columns != 'target'],\n",
    "                        'importances': model.feature_importances_})\n",
    "df_plot = df_plot.sort_values('importances', ascending=False)"
   ]
  },
  {
   "cell_type": "code",
   "execution_count": null,
   "id": "ff3b011b",
   "metadata": {},
   "outputs": [],
   "source": [
    "plt.figure(figsize=[11,5])\n",
    "sns.barplot(x = df_plot.importances, y = df_plot.features)\n",
    "plt.title('Importances of Features Plot')\n",
    "plt.show()"
   ]
  },
  {
   "cell_type": "code",
   "execution_count": null,
   "id": "60c93ddd",
   "metadata": {},
   "outputs": [],
   "source": [
    "model.feature_importances_"
   ]
  },
  {
   "cell_type": "code",
   "execution_count": null,
   "id": "54992b43",
   "metadata": {},
   "outputs": [],
   "source": [
    "df = df.drop(df_plot.features[df_plot.importances < 0.04].tolist(), 1)"
   ]
  },
  {
   "cell_type": "code",
   "execution_count": null,
   "id": "49817a20",
   "metadata": {},
   "outputs": [],
   "source": [
    "list(df.columns)"
   ]
  },
  {
   "cell_type": "code",
   "execution_count": null,
   "id": "2ed6f2ad",
   "metadata": {},
   "outputs": [],
   "source": [
    "target = df.pop('target')"
   ]
  },
  {
   "cell_type": "code",
   "execution_count": null,
   "id": "bf55680e",
   "metadata": {},
   "outputs": [],
   "source": [
    "from sklearn.model_selection import train_test_split"
   ]
  },
  {
   "cell_type": "code",
   "execution_count": null,
   "id": "53003797",
   "metadata": {},
   "outputs": [],
   "source": [
    "train_data, test_data, train_labels, test_labels = train_test_split(df, target, test_size = 0.3)\n",
    "model = xgb.XGBClassifier(learning_rate=0.1, max_depth=15, min_child_weight=5, n_estimators=250)\n",
    "model.fit(train_data, train_labels)"
   ]
  },
  {
   "cell_type": "code",
   "execution_count": null,
   "id": "4118ef1c",
   "metadata": {},
   "outputs": [],
   "source": [
    "predict_labels = model.predict(test_data)\n",
    "print(metrics.classification_report(test_labels, predict_labels))"
   ]
  },
  {
   "cell_type": "code",
   "execution_count": null,
   "id": "f3966b88",
   "metadata": {},
   "outputs": [],
   "source": []
  },
  {
   "cell_type": "code",
   "execution_count": null,
   "id": "67307a43",
   "metadata": {},
   "outputs": [],
   "source": []
  }
 ],
 "metadata": {
  "kernelspec": {
   "display_name": "Python 3 (ipykernel)",
   "language": "python",
   "name": "python3"
  },
  "language_info": {
   "codemirror_mode": {
    "name": "ipython",
    "version": 3
   },
   "file_extension": ".py",
   "mimetype": "text/x-python",
   "name": "python",
   "nbconvert_exporter": "python",
   "pygments_lexer": "ipython3",
   "version": "3.9.7"
  }
 },
 "nbformat": 4,
 "nbformat_minor": 5
}
